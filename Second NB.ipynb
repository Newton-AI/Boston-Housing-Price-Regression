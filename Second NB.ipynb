{
  "nbformat": 4,
  "nbformat_minor": 0,
  "metadata": {
    "colab": {
      "provenance": []
    },
    "kernelspec": {
      "name": "python3",
      "display_name": "Python 3"
    },
    "language_info": {
      "name": "python"
    }
  },
  "cells": [
    {
      "cell_type": "code",
      "execution_count": 1,
      "metadata": {
        "colab": {
          "base_uri": "https://localhost:8080/"
        },
        "id": "Zp4BetVINUqG",
        "outputId": "f625790a-aa61-4ce0-a406-b6adc8acc738"
      },
      "outputs": [
        {
          "output_type": "stream",
          "name": "stdout",
          "text": [
            "Looking in indexes: https://pypi.org/simple, https://us-python.pkg.dev/colab-wheels/public/simple/\n",
            "Requirement already satisfied: lazypredict in /usr/local/lib/python3.9/dist-packages (0.2.12)\n",
            "Requirement already satisfied: lightgbm in /usr/local/lib/python3.9/dist-packages (from lazypredict) (3.3.5)\n",
            "Requirement already satisfied: xgboost in /usr/local/lib/python3.9/dist-packages (from lazypredict) (1.7.4)\n",
            "Requirement already satisfied: pandas in /usr/local/lib/python3.9/dist-packages (from lazypredict) (1.4.4)\n",
            "Requirement already satisfied: click in /usr/local/lib/python3.9/dist-packages (from lazypredict) (8.1.3)\n",
            "Requirement already satisfied: joblib in /usr/local/lib/python3.9/dist-packages (from lazypredict) (1.1.1)\n",
            "Requirement already satisfied: tqdm in /usr/local/lib/python3.9/dist-packages (from lazypredict) (4.65.0)\n",
            "Requirement already satisfied: scikit-learn in /usr/local/lib/python3.9/dist-packages (from lazypredict) (1.2.2)\n",
            "Requirement already satisfied: scipy in /usr/local/lib/python3.9/dist-packages (from lightgbm->lazypredict) (1.10.1)\n",
            "Requirement already satisfied: wheel in /usr/local/lib/python3.9/dist-packages (from lightgbm->lazypredict) (0.40.0)\n",
            "Requirement already satisfied: numpy in /usr/local/lib/python3.9/dist-packages (from lightgbm->lazypredict) (1.22.4)\n",
            "Requirement already satisfied: threadpoolctl>=2.0.0 in /usr/local/lib/python3.9/dist-packages (from scikit-learn->lazypredict) (3.1.0)\n",
            "Requirement already satisfied: python-dateutil>=2.8.1 in /usr/local/lib/python3.9/dist-packages (from pandas->lazypredict) (2.8.2)\n",
            "Requirement already satisfied: pytz>=2020.1 in /usr/local/lib/python3.9/dist-packages (from pandas->lazypredict) (2022.7.1)\n",
            "Requirement already satisfied: six>=1.5 in /usr/local/lib/python3.9/dist-packages (from python-dateutil>=2.8.1->pandas->lazypredict) (1.16.0)\n"
          ]
        }
      ],
      "source": [
        "!pip install lazypredict"
      ]
    },
    {
      "cell_type": "code",
      "source": [
        "import math\n",
        "import numpy as np\n",
        "\n",
        "import pandas as pd\n",
        "import matplotlib.pyplot as plt\n",
        "import seaborn as sns\n",
        "\n",
        "from sklearn.model_selection import train_test_split, GridSearchCV, cross_val_score\n",
        "from sklearn.preprocessing import StandardScaler, MinMaxScaler\n",
        "\n",
        "from sklearn.linear_model import LinearRegression\n",
        "from sklearn.svm import SVR\n",
        "from sklearn.tree import DecisionTreeRegressor\n",
        "from sklearn.ensemble import RandomForestRegressor\n",
        "from sklearn import metrics\n",
        "\n",
        "from sklearn.metrics import r2_score, mean_squared_error, mean_absolute_error\n",
        "import joblib\n",
        "\n",
        "from sklearn.tree import export_graphviz\n",
        "import graphviz\n",
        "\n",
        "from scipy import stats\n"
      ],
      "metadata": {
        "id": "5cxGjmIMNxcw"
      },
      "execution_count": 90,
      "outputs": []
    },
    {
      "cell_type": "markdown",
      "source": [
        "# Load Data"
      ],
      "metadata": {
        "id": "x-lnZoa5nJTk"
      }
    },
    {
      "cell_type": "code",
      "source": [
        "df = pd.read_csv('boston_housing.csv')\n",
        "df.head()"
      ],
      "metadata": {
        "colab": {
          "base_uri": "https://localhost:8080/",
          "height": 204
        },
        "id": "XRV2ctcKnI5C",
        "outputId": "e664f774-e7c1-4ae9-dbad-2523ee0bf6ab"
      },
      "execution_count": 3,
      "outputs": [
        {
          "output_type": "execute_result",
          "data": {
            "text/plain": [
              "      crim    zn  indus  chas    nox     rm   age     dis  rad  tax  ptratio  \\\n",
              "0  0.00632  18.0   2.31     0  0.538  6.575  65.2  4.0900    1  296     15.3   \n",
              "1  0.02731   0.0   7.07     0  0.469  6.421  78.9  4.9671    2  242     17.8   \n",
              "2  0.02729   0.0   7.07     0  0.469  7.185  61.1  4.9671    2  242     17.8   \n",
              "3  0.03237   0.0   2.18     0  0.458  6.998  45.8  6.0622    3  222     18.7   \n",
              "4  0.06905   0.0   2.18     0  0.458  7.147  54.2  6.0622    3  222     18.7   \n",
              "\n",
              "        b  lstat  medv  \n",
              "0  396.90   4.98  24.0  \n",
              "1  396.90   9.14  21.6  \n",
              "2  392.83   4.03  34.7  \n",
              "3  394.63   2.94  33.4  \n",
              "4  396.90   5.33  36.2  "
            ],
            "text/html": [
              "\n",
              "  <div id=\"df-b3cd0697-b0ac-447b-8d71-0bd7e1849d02\">\n",
              "    <div class=\"colab-df-container\">\n",
              "      <div>\n",
              "<style scoped>\n",
              "    .dataframe tbody tr th:only-of-type {\n",
              "        vertical-align: middle;\n",
              "    }\n",
              "\n",
              "    .dataframe tbody tr th {\n",
              "        vertical-align: top;\n",
              "    }\n",
              "\n",
              "    .dataframe thead th {\n",
              "        text-align: right;\n",
              "    }\n",
              "</style>\n",
              "<table border=\"1\" class=\"dataframe\">\n",
              "  <thead>\n",
              "    <tr style=\"text-align: right;\">\n",
              "      <th></th>\n",
              "      <th>crim</th>\n",
              "      <th>zn</th>\n",
              "      <th>indus</th>\n",
              "      <th>chas</th>\n",
              "      <th>nox</th>\n",
              "      <th>rm</th>\n",
              "      <th>age</th>\n",
              "      <th>dis</th>\n",
              "      <th>rad</th>\n",
              "      <th>tax</th>\n",
              "      <th>ptratio</th>\n",
              "      <th>b</th>\n",
              "      <th>lstat</th>\n",
              "      <th>medv</th>\n",
              "    </tr>\n",
              "  </thead>\n",
              "  <tbody>\n",
              "    <tr>\n",
              "      <th>0</th>\n",
              "      <td>0.00632</td>\n",
              "      <td>18.0</td>\n",
              "      <td>2.31</td>\n",
              "      <td>0</td>\n",
              "      <td>0.538</td>\n",
              "      <td>6.575</td>\n",
              "      <td>65.2</td>\n",
              "      <td>4.0900</td>\n",
              "      <td>1</td>\n",
              "      <td>296</td>\n",
              "      <td>15.3</td>\n",
              "      <td>396.90</td>\n",
              "      <td>4.98</td>\n",
              "      <td>24.0</td>\n",
              "    </tr>\n",
              "    <tr>\n",
              "      <th>1</th>\n",
              "      <td>0.02731</td>\n",
              "      <td>0.0</td>\n",
              "      <td>7.07</td>\n",
              "      <td>0</td>\n",
              "      <td>0.469</td>\n",
              "      <td>6.421</td>\n",
              "      <td>78.9</td>\n",
              "      <td>4.9671</td>\n",
              "      <td>2</td>\n",
              "      <td>242</td>\n",
              "      <td>17.8</td>\n",
              "      <td>396.90</td>\n",
              "      <td>9.14</td>\n",
              "      <td>21.6</td>\n",
              "    </tr>\n",
              "    <tr>\n",
              "      <th>2</th>\n",
              "      <td>0.02729</td>\n",
              "      <td>0.0</td>\n",
              "      <td>7.07</td>\n",
              "      <td>0</td>\n",
              "      <td>0.469</td>\n",
              "      <td>7.185</td>\n",
              "      <td>61.1</td>\n",
              "      <td>4.9671</td>\n",
              "      <td>2</td>\n",
              "      <td>242</td>\n",
              "      <td>17.8</td>\n",
              "      <td>392.83</td>\n",
              "      <td>4.03</td>\n",
              "      <td>34.7</td>\n",
              "    </tr>\n",
              "    <tr>\n",
              "      <th>3</th>\n",
              "      <td>0.03237</td>\n",
              "      <td>0.0</td>\n",
              "      <td>2.18</td>\n",
              "      <td>0</td>\n",
              "      <td>0.458</td>\n",
              "      <td>6.998</td>\n",
              "      <td>45.8</td>\n",
              "      <td>6.0622</td>\n",
              "      <td>3</td>\n",
              "      <td>222</td>\n",
              "      <td>18.7</td>\n",
              "      <td>394.63</td>\n",
              "      <td>2.94</td>\n",
              "      <td>33.4</td>\n",
              "    </tr>\n",
              "    <tr>\n",
              "      <th>4</th>\n",
              "      <td>0.06905</td>\n",
              "      <td>0.0</td>\n",
              "      <td>2.18</td>\n",
              "      <td>0</td>\n",
              "      <td>0.458</td>\n",
              "      <td>7.147</td>\n",
              "      <td>54.2</td>\n",
              "      <td>6.0622</td>\n",
              "      <td>3</td>\n",
              "      <td>222</td>\n",
              "      <td>18.7</td>\n",
              "      <td>396.90</td>\n",
              "      <td>5.33</td>\n",
              "      <td>36.2</td>\n",
              "    </tr>\n",
              "  </tbody>\n",
              "</table>\n",
              "</div>\n",
              "      <button class=\"colab-df-convert\" onclick=\"convertToInteractive('df-b3cd0697-b0ac-447b-8d71-0bd7e1849d02')\"\n",
              "              title=\"Convert this dataframe to an interactive table.\"\n",
              "              style=\"display:none;\">\n",
              "        \n",
              "  <svg xmlns=\"http://www.w3.org/2000/svg\" height=\"24px\"viewBox=\"0 0 24 24\"\n",
              "       width=\"24px\">\n",
              "    <path d=\"M0 0h24v24H0V0z\" fill=\"none\"/>\n",
              "    <path d=\"M18.56 5.44l.94 2.06.94-2.06 2.06-.94-2.06-.94-.94-2.06-.94 2.06-2.06.94zm-11 1L8.5 8.5l.94-2.06 2.06-.94-2.06-.94L8.5 2.5l-.94 2.06-2.06.94zm10 10l.94 2.06.94-2.06 2.06-.94-2.06-.94-.94-2.06-.94 2.06-2.06.94z\"/><path d=\"M17.41 7.96l-1.37-1.37c-.4-.4-.92-.59-1.43-.59-.52 0-1.04.2-1.43.59L10.3 9.45l-7.72 7.72c-.78.78-.78 2.05 0 2.83L4 21.41c.39.39.9.59 1.41.59.51 0 1.02-.2 1.41-.59l7.78-7.78 2.81-2.81c.8-.78.8-2.07 0-2.86zM5.41 20L4 18.59l7.72-7.72 1.47 1.35L5.41 20z\"/>\n",
              "  </svg>\n",
              "      </button>\n",
              "      \n",
              "  <style>\n",
              "    .colab-df-container {\n",
              "      display:flex;\n",
              "      flex-wrap:wrap;\n",
              "      gap: 12px;\n",
              "    }\n",
              "\n",
              "    .colab-df-convert {\n",
              "      background-color: #E8F0FE;\n",
              "      border: none;\n",
              "      border-radius: 50%;\n",
              "      cursor: pointer;\n",
              "      display: none;\n",
              "      fill: #1967D2;\n",
              "      height: 32px;\n",
              "      padding: 0 0 0 0;\n",
              "      width: 32px;\n",
              "    }\n",
              "\n",
              "    .colab-df-convert:hover {\n",
              "      background-color: #E2EBFA;\n",
              "      box-shadow: 0px 1px 2px rgba(60, 64, 67, 0.3), 0px 1px 3px 1px rgba(60, 64, 67, 0.15);\n",
              "      fill: #174EA6;\n",
              "    }\n",
              "\n",
              "    [theme=dark] .colab-df-convert {\n",
              "      background-color: #3B4455;\n",
              "      fill: #D2E3FC;\n",
              "    }\n",
              "\n",
              "    [theme=dark] .colab-df-convert:hover {\n",
              "      background-color: #434B5C;\n",
              "      box-shadow: 0px 1px 3px 1px rgba(0, 0, 0, 0.15);\n",
              "      filter: drop-shadow(0px 1px 2px rgba(0, 0, 0, 0.3));\n",
              "      fill: #FFFFFF;\n",
              "    }\n",
              "  </style>\n",
              "\n",
              "      <script>\n",
              "        const buttonEl =\n",
              "          document.querySelector('#df-b3cd0697-b0ac-447b-8d71-0bd7e1849d02 button.colab-df-convert');\n",
              "        buttonEl.style.display =\n",
              "          google.colab.kernel.accessAllowed ? 'block' : 'none';\n",
              "\n",
              "        async function convertToInteractive(key) {\n",
              "          const element = document.querySelector('#df-b3cd0697-b0ac-447b-8d71-0bd7e1849d02');\n",
              "          const dataTable =\n",
              "            await google.colab.kernel.invokeFunction('convertToInteractive',\n",
              "                                                     [key], {});\n",
              "          if (!dataTable) return;\n",
              "\n",
              "          const docLinkHtml = 'Like what you see? Visit the ' +\n",
              "            '<a target=\"_blank\" href=https://colab.research.google.com/notebooks/data_table.ipynb>data table notebook</a>'\n",
              "            + ' to learn more about interactive tables.';\n",
              "          element.innerHTML = '';\n",
              "          dataTable['output_type'] = 'display_data';\n",
              "          await google.colab.output.renderOutput(dataTable, element);\n",
              "          const docLink = document.createElement('div');\n",
              "          docLink.innerHTML = docLinkHtml;\n",
              "          element.appendChild(docLink);\n",
              "        }\n",
              "      </script>\n",
              "    </div>\n",
              "  </div>\n",
              "  "
            ]
          },
          "metadata": {},
          "execution_count": 3
        }
      ]
    },
    {
      "cell_type": "code",
      "source": [
        "df.info()"
      ],
      "metadata": {
        "colab": {
          "base_uri": "https://localhost:8080/"
        },
        "id": "21sXJI8znMkR",
        "outputId": "546d8092-e50b-4b07-b696-2f11db863e5c"
      },
      "execution_count": 4,
      "outputs": [
        {
          "output_type": "stream",
          "name": "stdout",
          "text": [
            "<class 'pandas.core.frame.DataFrame'>\n",
            "RangeIndex: 506 entries, 0 to 505\n",
            "Data columns (total 14 columns):\n",
            " #   Column   Non-Null Count  Dtype  \n",
            "---  ------   --------------  -----  \n",
            " 0   crim     506 non-null    float64\n",
            " 1   zn       506 non-null    float64\n",
            " 2   indus    506 non-null    float64\n",
            " 3   chas     506 non-null    int64  \n",
            " 4   nox      506 non-null    float64\n",
            " 5   rm       506 non-null    float64\n",
            " 6   age      506 non-null    float64\n",
            " 7   dis      506 non-null    float64\n",
            " 8   rad      506 non-null    int64  \n",
            " 9   tax      506 non-null    int64  \n",
            " 10  ptratio  506 non-null    float64\n",
            " 11  b        506 non-null    float64\n",
            " 12  lstat    506 non-null    float64\n",
            " 13  medv     506 non-null    float64\n",
            "dtypes: float64(11), int64(3)\n",
            "memory usage: 55.5 KB\n"
          ]
        }
      ]
    },
    {
      "cell_type": "markdown",
      "source": [
        "# EDA"
      ],
      "metadata": {
        "id": "DzFntOwLLj5R"
      }
    },
    {
      "cell_type": "markdown",
      "source": [
        "## Statistical Analysis"
      ],
      "metadata": {
        "id": "1_uBPp3mLodT"
      }
    },
    {
      "cell_type": "code",
      "source": [
        "df.describe().T"
      ],
      "metadata": {
        "colab": {
          "base_uri": "https://localhost:8080/",
          "height": 483
        },
        "id": "LUOascmfLl7O",
        "outputId": "3e921e5d-399b-4a7e-9388-242082d13383"
      },
      "execution_count": 5,
      "outputs": [
        {
          "output_type": "execute_result",
          "data": {
            "text/plain": [
              "         count        mean         std        min         25%        50%  \\\n",
              "crim     506.0    3.613524    8.601545    0.00632    0.082045    0.25651   \n",
              "zn       506.0   11.363636   23.322453    0.00000    0.000000    0.00000   \n",
              "indus    506.0   11.136779    6.860353    0.46000    5.190000    9.69000   \n",
              "chas     506.0    0.069170    0.253994    0.00000    0.000000    0.00000   \n",
              "nox      506.0    0.554695    0.115878    0.38500    0.449000    0.53800   \n",
              "rm       506.0    6.284634    0.702617    3.56100    5.885500    6.20850   \n",
              "age      506.0   68.574901   28.148861    2.90000   45.025000   77.50000   \n",
              "dis      506.0    3.795043    2.105710    1.12960    2.100175    3.20745   \n",
              "rad      506.0    9.549407    8.707259    1.00000    4.000000    5.00000   \n",
              "tax      506.0  408.237154  168.537116  187.00000  279.000000  330.00000   \n",
              "ptratio  506.0   18.455534    2.164946   12.60000   17.400000   19.05000   \n",
              "b        506.0  356.674032   91.294864    0.32000  375.377500  391.44000   \n",
              "lstat    506.0   12.653063    7.141062    1.73000    6.950000   11.36000   \n",
              "medv     506.0   22.532806    9.197104    5.00000   17.025000   21.20000   \n",
              "\n",
              "                75%       max  \n",
              "crim       3.677083   88.9762  \n",
              "zn        12.500000  100.0000  \n",
              "indus     18.100000   27.7400  \n",
              "chas       0.000000    1.0000  \n",
              "nox        0.624000    0.8710  \n",
              "rm         6.623500    8.7800  \n",
              "age       94.075000  100.0000  \n",
              "dis        5.188425   12.1265  \n",
              "rad       24.000000   24.0000  \n",
              "tax      666.000000  711.0000  \n",
              "ptratio   20.200000   22.0000  \n",
              "b        396.225000  396.9000  \n",
              "lstat     16.955000   37.9700  \n",
              "medv      25.000000   50.0000  "
            ],
            "text/html": [
              "\n",
              "  <div id=\"df-4b1fda4b-a82d-49c0-8360-c197fff4fa17\">\n",
              "    <div class=\"colab-df-container\">\n",
              "      <div>\n",
              "<style scoped>\n",
              "    .dataframe tbody tr th:only-of-type {\n",
              "        vertical-align: middle;\n",
              "    }\n",
              "\n",
              "    .dataframe tbody tr th {\n",
              "        vertical-align: top;\n",
              "    }\n",
              "\n",
              "    .dataframe thead th {\n",
              "        text-align: right;\n",
              "    }\n",
              "</style>\n",
              "<table border=\"1\" class=\"dataframe\">\n",
              "  <thead>\n",
              "    <tr style=\"text-align: right;\">\n",
              "      <th></th>\n",
              "      <th>count</th>\n",
              "      <th>mean</th>\n",
              "      <th>std</th>\n",
              "      <th>min</th>\n",
              "      <th>25%</th>\n",
              "      <th>50%</th>\n",
              "      <th>75%</th>\n",
              "      <th>max</th>\n",
              "    </tr>\n",
              "  </thead>\n",
              "  <tbody>\n",
              "    <tr>\n",
              "      <th>crim</th>\n",
              "      <td>506.0</td>\n",
              "      <td>3.613524</td>\n",
              "      <td>8.601545</td>\n",
              "      <td>0.00632</td>\n",
              "      <td>0.082045</td>\n",
              "      <td>0.25651</td>\n",
              "      <td>3.677083</td>\n",
              "      <td>88.9762</td>\n",
              "    </tr>\n",
              "    <tr>\n",
              "      <th>zn</th>\n",
              "      <td>506.0</td>\n",
              "      <td>11.363636</td>\n",
              "      <td>23.322453</td>\n",
              "      <td>0.00000</td>\n",
              "      <td>0.000000</td>\n",
              "      <td>0.00000</td>\n",
              "      <td>12.500000</td>\n",
              "      <td>100.0000</td>\n",
              "    </tr>\n",
              "    <tr>\n",
              "      <th>indus</th>\n",
              "      <td>506.0</td>\n",
              "      <td>11.136779</td>\n",
              "      <td>6.860353</td>\n",
              "      <td>0.46000</td>\n",
              "      <td>5.190000</td>\n",
              "      <td>9.69000</td>\n",
              "      <td>18.100000</td>\n",
              "      <td>27.7400</td>\n",
              "    </tr>\n",
              "    <tr>\n",
              "      <th>chas</th>\n",
              "      <td>506.0</td>\n",
              "      <td>0.069170</td>\n",
              "      <td>0.253994</td>\n",
              "      <td>0.00000</td>\n",
              "      <td>0.000000</td>\n",
              "      <td>0.00000</td>\n",
              "      <td>0.000000</td>\n",
              "      <td>1.0000</td>\n",
              "    </tr>\n",
              "    <tr>\n",
              "      <th>nox</th>\n",
              "      <td>506.0</td>\n",
              "      <td>0.554695</td>\n",
              "      <td>0.115878</td>\n",
              "      <td>0.38500</td>\n",
              "      <td>0.449000</td>\n",
              "      <td>0.53800</td>\n",
              "      <td>0.624000</td>\n",
              "      <td>0.8710</td>\n",
              "    </tr>\n",
              "    <tr>\n",
              "      <th>rm</th>\n",
              "      <td>506.0</td>\n",
              "      <td>6.284634</td>\n",
              "      <td>0.702617</td>\n",
              "      <td>3.56100</td>\n",
              "      <td>5.885500</td>\n",
              "      <td>6.20850</td>\n",
              "      <td>6.623500</td>\n",
              "      <td>8.7800</td>\n",
              "    </tr>\n",
              "    <tr>\n",
              "      <th>age</th>\n",
              "      <td>506.0</td>\n",
              "      <td>68.574901</td>\n",
              "      <td>28.148861</td>\n",
              "      <td>2.90000</td>\n",
              "      <td>45.025000</td>\n",
              "      <td>77.50000</td>\n",
              "      <td>94.075000</td>\n",
              "      <td>100.0000</td>\n",
              "    </tr>\n",
              "    <tr>\n",
              "      <th>dis</th>\n",
              "      <td>506.0</td>\n",
              "      <td>3.795043</td>\n",
              "      <td>2.105710</td>\n",
              "      <td>1.12960</td>\n",
              "      <td>2.100175</td>\n",
              "      <td>3.20745</td>\n",
              "      <td>5.188425</td>\n",
              "      <td>12.1265</td>\n",
              "    </tr>\n",
              "    <tr>\n",
              "      <th>rad</th>\n",
              "      <td>506.0</td>\n",
              "      <td>9.549407</td>\n",
              "      <td>8.707259</td>\n",
              "      <td>1.00000</td>\n",
              "      <td>4.000000</td>\n",
              "      <td>5.00000</td>\n",
              "      <td>24.000000</td>\n",
              "      <td>24.0000</td>\n",
              "    </tr>\n",
              "    <tr>\n",
              "      <th>tax</th>\n",
              "      <td>506.0</td>\n",
              "      <td>408.237154</td>\n",
              "      <td>168.537116</td>\n",
              "      <td>187.00000</td>\n",
              "      <td>279.000000</td>\n",
              "      <td>330.00000</td>\n",
              "      <td>666.000000</td>\n",
              "      <td>711.0000</td>\n",
              "    </tr>\n",
              "    <tr>\n",
              "      <th>ptratio</th>\n",
              "      <td>506.0</td>\n",
              "      <td>18.455534</td>\n",
              "      <td>2.164946</td>\n",
              "      <td>12.60000</td>\n",
              "      <td>17.400000</td>\n",
              "      <td>19.05000</td>\n",
              "      <td>20.200000</td>\n",
              "      <td>22.0000</td>\n",
              "    </tr>\n",
              "    <tr>\n",
              "      <th>b</th>\n",
              "      <td>506.0</td>\n",
              "      <td>356.674032</td>\n",
              "      <td>91.294864</td>\n",
              "      <td>0.32000</td>\n",
              "      <td>375.377500</td>\n",
              "      <td>391.44000</td>\n",
              "      <td>396.225000</td>\n",
              "      <td>396.9000</td>\n",
              "    </tr>\n",
              "    <tr>\n",
              "      <th>lstat</th>\n",
              "      <td>506.0</td>\n",
              "      <td>12.653063</td>\n",
              "      <td>7.141062</td>\n",
              "      <td>1.73000</td>\n",
              "      <td>6.950000</td>\n",
              "      <td>11.36000</td>\n",
              "      <td>16.955000</td>\n",
              "      <td>37.9700</td>\n",
              "    </tr>\n",
              "    <tr>\n",
              "      <th>medv</th>\n",
              "      <td>506.0</td>\n",
              "      <td>22.532806</td>\n",
              "      <td>9.197104</td>\n",
              "      <td>5.00000</td>\n",
              "      <td>17.025000</td>\n",
              "      <td>21.20000</td>\n",
              "      <td>25.000000</td>\n",
              "      <td>50.0000</td>\n",
              "    </tr>\n",
              "  </tbody>\n",
              "</table>\n",
              "</div>\n",
              "      <button class=\"colab-df-convert\" onclick=\"convertToInteractive('df-4b1fda4b-a82d-49c0-8360-c197fff4fa17')\"\n",
              "              title=\"Convert this dataframe to an interactive table.\"\n",
              "              style=\"display:none;\">\n",
              "        \n",
              "  <svg xmlns=\"http://www.w3.org/2000/svg\" height=\"24px\"viewBox=\"0 0 24 24\"\n",
              "       width=\"24px\">\n",
              "    <path d=\"M0 0h24v24H0V0z\" fill=\"none\"/>\n",
              "    <path d=\"M18.56 5.44l.94 2.06.94-2.06 2.06-.94-2.06-.94-.94-2.06-.94 2.06-2.06.94zm-11 1L8.5 8.5l.94-2.06 2.06-.94-2.06-.94L8.5 2.5l-.94 2.06-2.06.94zm10 10l.94 2.06.94-2.06 2.06-.94-2.06-.94-.94-2.06-.94 2.06-2.06.94z\"/><path d=\"M17.41 7.96l-1.37-1.37c-.4-.4-.92-.59-1.43-.59-.52 0-1.04.2-1.43.59L10.3 9.45l-7.72 7.72c-.78.78-.78 2.05 0 2.83L4 21.41c.39.39.9.59 1.41.59.51 0 1.02-.2 1.41-.59l7.78-7.78 2.81-2.81c.8-.78.8-2.07 0-2.86zM5.41 20L4 18.59l7.72-7.72 1.47 1.35L5.41 20z\"/>\n",
              "  </svg>\n",
              "      </button>\n",
              "      \n",
              "  <style>\n",
              "    .colab-df-container {\n",
              "      display:flex;\n",
              "      flex-wrap:wrap;\n",
              "      gap: 12px;\n",
              "    }\n",
              "\n",
              "    .colab-df-convert {\n",
              "      background-color: #E8F0FE;\n",
              "      border: none;\n",
              "      border-radius: 50%;\n",
              "      cursor: pointer;\n",
              "      display: none;\n",
              "      fill: #1967D2;\n",
              "      height: 32px;\n",
              "      padding: 0 0 0 0;\n",
              "      width: 32px;\n",
              "    }\n",
              "\n",
              "    .colab-df-convert:hover {\n",
              "      background-color: #E2EBFA;\n",
              "      box-shadow: 0px 1px 2px rgba(60, 64, 67, 0.3), 0px 1px 3px 1px rgba(60, 64, 67, 0.15);\n",
              "      fill: #174EA6;\n",
              "    }\n",
              "\n",
              "    [theme=dark] .colab-df-convert {\n",
              "      background-color: #3B4455;\n",
              "      fill: #D2E3FC;\n",
              "    }\n",
              "\n",
              "    [theme=dark] .colab-df-convert:hover {\n",
              "      background-color: #434B5C;\n",
              "      box-shadow: 0px 1px 3px 1px rgba(0, 0, 0, 0.15);\n",
              "      filter: drop-shadow(0px 1px 2px rgba(0, 0, 0, 0.3));\n",
              "      fill: #FFFFFF;\n",
              "    }\n",
              "  </style>\n",
              "\n",
              "      <script>\n",
              "        const buttonEl =\n",
              "          document.querySelector('#df-4b1fda4b-a82d-49c0-8360-c197fff4fa17 button.colab-df-convert');\n",
              "        buttonEl.style.display =\n",
              "          google.colab.kernel.accessAllowed ? 'block' : 'none';\n",
              "\n",
              "        async function convertToInteractive(key) {\n",
              "          const element = document.querySelector('#df-4b1fda4b-a82d-49c0-8360-c197fff4fa17');\n",
              "          const dataTable =\n",
              "            await google.colab.kernel.invokeFunction('convertToInteractive',\n",
              "                                                     [key], {});\n",
              "          if (!dataTable) return;\n",
              "\n",
              "          const docLinkHtml = 'Like what you see? Visit the ' +\n",
              "            '<a target=\"_blank\" href=https://colab.research.google.com/notebooks/data_table.ipynb>data table notebook</a>'\n",
              "            + ' to learn more about interactive tables.';\n",
              "          element.innerHTML = '';\n",
              "          dataTable['output_type'] = 'display_data';\n",
              "          await google.colab.output.renderOutput(dataTable, element);\n",
              "          const docLink = document.createElement('div');\n",
              "          docLink.innerHTML = docLinkHtml;\n",
              "          element.appendChild(docLink);\n",
              "        }\n",
              "      </script>\n",
              "    </div>\n",
              "  </div>\n",
              "  "
            ]
          },
          "metadata": {},
          "execution_count": 5
        }
      ]
    },
    {
      "cell_type": "markdown",
      "source": [
        "## Histogram"
      ],
      "metadata": {
        "id": "zVeUFiOlLzgp"
      }
    },
    {
      "cell_type": "code",
      "source": [
        "plot = df.hist(figsize = (20,20))"
      ],
      "metadata": {
        "colab": {
          "base_uri": "https://localhost:8080/",
          "height": 1000
        },
        "id": "I6fSyXuCL0Ca",
        "outputId": "fbb11129-62c3-49e9-8fc7-b0a1e453b2a2"
      },
      "execution_count": 6,
      "outputs": [
        {
          "output_type": "display_data",
          "data": {
            "text/plain": [
              "<Figure size 1440x1440 with 16 Axes>"
            ],
            "image/png": "[encoded data removed]"
          },
          "metadata": {
            "needs_background": "light"
          }
        }
      ]
    },
    {
      "cell_type": "markdown",
      "source": [
        "### Pairplot"
      ],
      "metadata": {
        "id": "-AGoFGV34Stq"
      }
    },
    {
      "cell_type": "code",
      "source": [
        "# Calculate and show pairplot\n",
        "sns.pairplot(df[['medv', 'rm','lstat','ptratio','indus']], size=2.5)\n",
        "plt.tight_layout()"
      ],
      "metadata": {
        "colab": {
          "base_uri": "https://localhost:8080/",
          "height": 909
        },
        "id": "xTAfgS7q4Ppu",
        "outputId": "7346bf75-742e-45a6-b737-71f6de18856f"
      },
      "execution_count": 105,
      "outputs": [
        {
          "output_type": "display_data",
          "data": {
            "text/plain": [
              "<Figure size 900x900 with 30 Axes>"
            ],
            "image/png": "[encoded data removed]"
          },
          "metadata": {
            "needs_background": "light"
          }
        }
      ]
    },
    {
      "cell_type": "markdown",
      "source": [
        "## Correlation Heatmap"
      ],
      "metadata": {
        "id": "OM-eG47xL9YA"
      }
    },
    {
      "cell_type": "code",
      "source": [
        "plt.figure(figsize=(10,10))\n",
        "sns.heatmap(df.corr(), cmap=\"Reds\", annot=True, fmt=\".2f\")"
      ],
      "metadata": {
        "colab": {
          "base_uri": "https://localhost:8080/",
          "height": 613
        },
        "id": "S-56fk57L4da",
        "outputId": "a5f71ac5-a214-46e6-e11b-e45b43202cad"
      },
      "execution_count": 7,
      "outputs": [
        {
          "output_type": "execute_result",
          "data": {
            "text/plain": [
              "<Axes: >"
            ]
          },
          "metadata": {},
          "execution_count": 7
        },
        {
          "output_type": "display_data",
          "data": {
            "text/plain": [
              "<Figure size 720x720 with 2 Axes>"
            ],
            "image/png": "[encoded data removed]"
          },
          "metadata": {
            "needs_background": "light"
          }
        }
      ]
    },
    {
      "cell_type": "code",
      "source": [
        "df[df.columns[0:]].corr()['medv'][:].sort_values()"
      ],
      "metadata": {
        "colab": {
          "base_uri": "https://localhost:8080/"
        },
        "id": "szlpbuBRMFE6",
        "outputId": "06649879-c6c1-4b7c-bb01-74484754198a"
      },
      "execution_count": 8,
      "outputs": [
        {
          "output_type": "execute_result",
          "data": {
            "text/plain": [
              "lstat     -0.737663\n",
              "ptratio   -0.507787\n",
              "indus     -0.483725\n",
              "tax       -0.468536\n",
              "nox       -0.427321\n",
              "crim      -0.388305\n",
              "rad       -0.381626\n",
              "age       -0.376955\n",
              "chas       0.175260\n",
              "dis        0.249929\n",
              "b          0.333461\n",
              "zn         0.360445\n",
              "rm         0.695360\n",
              "medv       1.000000\n",
              "Name: medv, dtype: float64"
            ]
          },
          "metadata": {},
          "execution_count": 8
        }
      ]
    },
    {
      "cell_type": "markdown",
      "source": [
        "# Data Preparation"
      ],
      "metadata": {
        "id": "zhNvRWCKnQrR"
      }
    },
    {
      "cell_type": "markdown",
      "source": [
        "## Check Duplication"
      ],
      "metadata": {
        "id": "el8ptBHhMMeU"
      }
    },
    {
      "cell_type": "code",
      "source": [
        "print(df.duplicated().sum())"
      ],
      "metadata": {
        "colab": {
          "base_uri": "https://localhost:8080/"
        },
        "id": "NH-wvqIMMPYQ",
        "outputId": "b6670271-2db4-4cbd-bfa7-b83d34cdd80b"
      },
      "execution_count": 9,
      "outputs": [
        {
          "output_type": "stream",
          "name": "stdout",
          "text": [
            "0\n"
          ]
        }
      ]
    },
    {
      "cell_type": "markdown",
      "source": [
        "## Outliers"
      ],
      "metadata": {
        "id": "mR1aGJuMnbqb"
      }
    },
    {
      "cell_type": "code",
      "source": [
        "z = np.abs(stats.zscore(df))\n",
        "print(z)"
      ],
      "metadata": {
        "colab": {
          "base_uri": "https://localhost:8080/"
        },
        "id": "PzHhTzJgnTNg",
        "outputId": "35775d1a-7dfd-426d-cd02-820f643f407b"
      },
      "execution_count": 10,
      "outputs": [
        {
          "output_type": "stream",
          "name": "stdout",
          "text": [
            "         crim        zn     indus      chas       nox        rm       age  \\\n",
            "0    0.419782  0.284830  1.287909  0.272599  0.144217  0.413672  0.120013   \n",
            "1    0.417339  0.487722  0.593381  0.272599  0.740262  0.194274  0.367166   \n",
            "2    0.417342  0.487722  0.593381  0.272599  0.740262  1.282714  0.265812   \n",
            "3    0.416750  0.487722  1.306878  0.272599  0.835284  1.016303  0.809889   \n",
            "4    0.412482  0.487722  1.306878  0.272599  0.835284  1.228577  0.511180   \n",
            "..        ...       ...       ...       ...       ...       ...       ...   \n",
            "501  0.413229  0.487722  0.115738  0.272599  0.158124  0.439316  0.018673   \n",
            "502  0.415249  0.487722  0.115738  0.272599  0.158124  0.234548  0.288933   \n",
            "503  0.413447  0.487722  0.115738  0.272599  0.158124  0.984960  0.797449   \n",
            "504  0.407764  0.487722  0.115738  0.272599  0.158124  0.725672  0.736996   \n",
            "505  0.415000  0.487722  0.115738  0.272599  0.158124  0.362767  0.434732   \n",
            "\n",
            "          dis       rad       tax   ptratio         b     lstat      medv  \n",
            "0    0.140214  0.982843  0.666608  1.459000  0.441052  1.075562  0.159686  \n",
            "1    0.557160  0.867883  0.987329  0.303094  0.441052  0.492439  0.101524  \n",
            "2    0.557160  0.867883  0.987329  0.303094  0.396427  1.208727  1.324247  \n",
            "3    1.077737  0.752922  1.106115  0.113032  0.416163  1.361517  1.182758  \n",
            "4    1.077737  0.752922  1.106115  0.113032  0.441052  1.026501  1.487503  \n",
            "..        ...       ...       ...       ...       ...       ...       ...  \n",
            "501  0.625796  0.982843  0.803212  1.176466  0.387217  0.418147  0.014454  \n",
            "502  0.716639  0.982843  0.803212  1.176466  0.441052  0.500850  0.210362  \n",
            "503  0.773684  0.982843  0.803212  1.176466  0.441052  0.983048  0.148802  \n",
            "504  0.668437  0.982843  0.803212  1.176466  0.403225  0.865302  0.057989  \n",
            "505  0.613246  0.982843  0.803212  1.176466  0.441052  0.669058  1.157248  \n",
            "\n",
            "[506 rows x 14 columns]\n"
          ]
        }
      ]
    },
    {
      "cell_type": "code",
      "source": [
        "threshold = 3\n",
        "print(np.where(z > 3))"
      ],
      "metadata": {
        "colab": {
          "base_uri": "https://localhost:8080/"
        },
        "id": "yZbb3jqlnn_a",
        "outputId": "7c6a859a-206e-4a8d-8b3e-8d996cccfd24"
      },
      "execution_count": 11,
      "outputs": [
        {
          "output_type": "stream",
          "name": "stdout",
          "text": [
            "(array([ 55,  56,  57, 102, 141, 142, 152, 154, 155, 160, 162, 163, 199,\n",
            "       200, 201, 202, 203, 204, 208, 209, 210, 211, 212, 216, 218, 219,\n",
            "       220, 221, 222, 225, 234, 236, 256, 257, 262, 269, 273, 274, 276,\n",
            "       277, 282, 283, 283, 284, 347, 351, 352, 353, 353, 354, 355, 356,\n",
            "       357, 358, 363, 364, 364, 365, 367, 369, 370, 372, 373, 374, 374,\n",
            "       380, 398, 404, 405, 406, 410, 410, 411, 412, 412, 414, 414, 415,\n",
            "       416, 418, 418, 419, 423, 424, 425, 426, 427, 427, 429, 431, 436,\n",
            "       437, 438, 445, 450, 454, 455, 456, 457, 466]), array([ 1,  1,  1, 11, 12,  3,  3,  3,  3,  3,  3,  3,  1,  1,  1,  1,  1,\n",
            "        1,  3,  3,  3,  3,  3,  3,  3,  3,  3,  3,  3,  5,  3,  3,  1,  5,\n",
            "        5,  3,  3,  3,  3,  3,  3,  1,  3,  1,  1,  7,  7,  1,  7,  7,  7,\n",
            "        3,  3,  3,  3,  3,  5,  5,  5,  3,  3,  3, 12,  5, 12,  0,  0,  0,\n",
            "        0,  5,  0, 11, 11, 11, 12,  0, 12, 11, 11,  0, 11, 11, 11, 11, 11,\n",
            "       11,  0, 11, 11, 11, 11, 11, 11, 11, 11, 11, 11, 11, 11, 11]))\n"
          ]
        }
      ]
    },
    {
      "cell_type": "code",
      "source": [
        "df_boston = df[(z < 3).all(axis=1)]\n",
        "df_boston.shape"
      ],
      "metadata": {
        "colab": {
          "base_uri": "https://localhost:8080/"
        },
        "id": "r9rZ_Vdnno8z",
        "outputId": "67741b30-eef5-4e92-9ee1-92ab963ad70f"
      },
      "execution_count": 12,
      "outputs": [
        {
          "output_type": "execute_result",
          "data": {
            "text/plain": [
              "(415, 14)"
            ]
          },
          "metadata": {},
          "execution_count": 12
        }
      ]
    },
    {
      "cell_type": "code",
      "source": [
        "df.shape"
      ],
      "metadata": {
        "colab": {
          "base_uri": "https://localhost:8080/"
        },
        "id": "0wHaIAyOnwMo",
        "outputId": "27faf283-6575-4ff9-e83b-ba9f5159d070"
      },
      "execution_count": 13,
      "outputs": [
        {
          "output_type": "execute_result",
          "data": {
            "text/plain": [
              "(506, 14)"
            ]
          },
          "metadata": {},
          "execution_count": 13
        }
      ]
    },
    {
      "cell_type": "code",
      "source": [
        "df_boston.head()"
      ],
      "metadata": {
        "colab": {
          "base_uri": "https://localhost:8080/",
          "height": 204
        },
        "id": "PJsh7lenn2C8",
        "outputId": "25226ab0-0282-4451-9cd1-f86e5cc586b3"
      },
      "execution_count": 14,
      "outputs": [
        {
          "output_type": "execute_result",
          "data": {
            "text/plain": [
              "      crim    zn  indus  chas    nox     rm   age     dis  rad  tax  ptratio  \\\n",
              "0  0.00632  18.0   2.31     0  0.538  6.575  65.2  4.0900    1  296     15.3   \n",
              "1  0.02731   0.0   7.07     0  0.469  6.421  78.9  4.9671    2  242     17.8   \n",
              "2  0.02729   0.0   7.07     0  0.469  7.185  61.1  4.9671    2  242     17.8   \n",
              "3  0.03237   0.0   2.18     0  0.458  6.998  45.8  6.0622    3  222     18.7   \n",
              "4  0.06905   0.0   2.18     0  0.458  7.147  54.2  6.0622    3  222     18.7   \n",
              "\n",
              "        b  lstat  medv  \n",
              "0  396.90   4.98  24.0  \n",
              "1  396.90   9.14  21.6  \n",
              "2  392.83   4.03  34.7  \n",
              "3  394.63   2.94  33.4  \n",
              "4  396.90   5.33  36.2  "
            ],
            "text/html": [
              "\n",
              "  <div id=\"df-96fd8db7-ab5a-4468-b7aa-a8505bf6df96\">\n",
              "    <div class=\"colab-df-container\">\n",
              "      <div>\n",
              "<style scoped>\n",
              "    .dataframe tbody tr th:only-of-type {\n",
              "        vertical-align: middle;\n",
              "    }\n",
              "\n",
              "    .dataframe tbody tr th {\n",
              "        vertical-align: top;\n",
              "    }\n",
              "\n",
              "    .dataframe thead th {\n",
              "        text-align: right;\n",
              "    }\n",
              "</style>\n",
              "<table border=\"1\" class=\"dataframe\">\n",
              "  <thead>\n",
              "    <tr style=\"text-align: right;\">\n",
              "      <th></th>\n",
              "      <th>crim</th>\n",
              "      <th>zn</th>\n",
              "      <th>indus</th>\n",
              "      <th>chas</th>\n",
              "      <th>nox</th>\n",
              "      <th>rm</th>\n",
              "      <th>age</th>\n",
              "      <th>dis</th>\n",
              "      <th>rad</th>\n",
              "      <th>tax</th>\n",
              "      <th>ptratio</th>\n",
              "      <th>b</th>\n",
              "      <th>lstat</th>\n",
              "      <th>medv</th>\n",
              "    </tr>\n",
              "  </thead>\n",
              "  <tbody>\n",
              "    <tr>\n",
              "      <th>0</th>\n",
              "      <td>0.00632</td>\n",
              "      <td>18.0</td>\n",
              "      <td>2.31</td>\n",
              "      <td>0</td>\n",
              "      <td>0.538</td>\n",
              "      <td>6.575</td>\n",
              "      <td>65.2</td>\n",
              "      <td>4.0900</td>\n",
              "      <td>1</td>\n",
              "      <td>296</td>\n",
              "      <td>15.3</td>\n",
              "      <td>396.90</td>\n",
              "      <td>4.98</td>\n",
              "      <td>24.0</td>\n",
              "    </tr>\n",
              "    <tr>\n",
              "      <th>1</th>\n",
              "      <td>0.02731</td>\n",
              "      <td>0.0</td>\n",
              "      <td>7.07</td>\n",
              "      <td>0</td>\n",
              "      <td>0.469</td>\n",
              "      <td>6.421</td>\n",
              "      <td>78.9</td>\n",
              "      <td>4.9671</td>\n",
              "      <td>2</td>\n",
              "      <td>242</td>\n",
              "      <td>17.8</td>\n",
              "      <td>396.90</td>\n",
              "      <td>9.14</td>\n",
              "      <td>21.6</td>\n",
              "    </tr>\n",
              "    <tr>\n",
              "      <th>2</th>\n",
              "      <td>0.02729</td>\n",
              "      <td>0.0</td>\n",
              "      <td>7.07</td>\n",
              "      <td>0</td>\n",
              "      <td>0.469</td>\n",
              "      <td>7.185</td>\n",
              "      <td>61.1</td>\n",
              "      <td>4.9671</td>\n",
              "      <td>2</td>\n",
              "      <td>242</td>\n",
              "      <td>17.8</td>\n",
              "      <td>392.83</td>\n",
              "      <td>4.03</td>\n",
              "      <td>34.7</td>\n",
              "    </tr>\n",
              "    <tr>\n",
              "      <th>3</th>\n",
              "      <td>0.03237</td>\n",
              "      <td>0.0</td>\n",
              "      <td>2.18</td>\n",
              "      <td>0</td>\n",
              "      <td>0.458</td>\n",
              "      <td>6.998</td>\n",
              "      <td>45.8</td>\n",
              "      <td>6.0622</td>\n",
              "      <td>3</td>\n",
              "      <td>222</td>\n",
              "      <td>18.7</td>\n",
              "      <td>394.63</td>\n",
              "      <td>2.94</td>\n",
              "      <td>33.4</td>\n",
              "    </tr>\n",
              "    <tr>\n",
              "      <th>4</th>\n",
              "      <td>0.06905</td>\n",
              "      <td>0.0</td>\n",
              "      <td>2.18</td>\n",
              "      <td>0</td>\n",
              "      <td>0.458</td>\n",
              "      <td>7.147</td>\n",
              "      <td>54.2</td>\n",
              "      <td>6.0622</td>\n",
              "      <td>3</td>\n",
              "      <td>222</td>\n",
              "      <td>18.7</td>\n",
              "      <td>396.90</td>\n",
              "      <td>5.33</td>\n",
              "      <td>36.2</td>\n",
              "    </tr>\n",
              "  </tbody>\n",
              "</table>\n",
              "</div>\n",
              "      <button class=\"colab-df-convert\" onclick=\"convertToInteractive('df-96fd8db7-ab5a-4468-b7aa-a8505bf6df96')\"\n",
              "              title=\"Convert this dataframe to an interactive table.\"\n",
              "              style=\"display:none;\">\n",
              "        \n",
              "  <svg xmlns=\"http://www.w3.org/2000/svg\" height=\"24px\"viewBox=\"0 0 24 24\"\n",
              "       width=\"24px\">\n",
              "    <path d=\"M0 0h24v24H0V0z\" fill=\"none\"/>\n",
              "    <path d=\"M18.56 5.44l.94 2.06.94-2.06 2.06-.94-2.06-.94-.94-2.06-.94 2.06-2.06.94zm-11 1L8.5 8.5l.94-2.06 2.06-.94-2.06-.94L8.5 2.5l-.94 2.06-2.06.94zm10 10l.94 2.06.94-2.06 2.06-.94-2.06-.94-.94-2.06-.94 2.06-2.06.94z\"/><path d=\"M17.41 7.96l-1.37-1.37c-.4-.4-.92-.59-1.43-.59-.52 0-1.04.2-1.43.59L10.3 9.45l-7.72 7.72c-.78.78-.78 2.05 0 2.83L4 21.41c.39.39.9.59 1.41.59.51 0 1.02-.2 1.41-.59l7.78-7.78 2.81-2.81c.8-.78.8-2.07 0-2.86zM5.41 20L4 18.59l7.72-7.72 1.47 1.35L5.41 20z\"/>\n",
              "  </svg>\n",
              "      </button>\n",
              "      \n",
              "  <style>\n",
              "    .colab-df-container {\n",
              "      display:flex;\n",
              "      flex-wrap:wrap;\n",
              "      gap: 12px;\n",
              "    }\n",
              "\n",
              "    .colab-df-convert {\n",
              "      background-color: #E8F0FE;\n",
              "      border: none;\n",
              "      border-radius: 50%;\n",
              "      cursor: pointer;\n",
              "      display: none;\n",
              "      fill: #1967D2;\n",
              "      height: 32px;\n",
              "      padding: 0 0 0 0;\n",
              "      width: 32px;\n",
              "    }\n",
              "\n",
              "    .colab-df-convert:hover {\n",
              "      background-color: #E2EBFA;\n",
              "      box-shadow: 0px 1px 2px rgba(60, 64, 67, 0.3), 0px 1px 3px 1px rgba(60, 64, 67, 0.15);\n",
              "      fill: #174EA6;\n",
              "    }\n",
              "\n",
              "    [theme=dark] .colab-df-convert {\n",
              "      background-color: #3B4455;\n",
              "      fill: #D2E3FC;\n",
              "    }\n",
              "\n",
              "    [theme=dark] .colab-df-convert:hover {\n",
              "      background-color: #434B5C;\n",
              "      box-shadow: 0px 1px 3px 1px rgba(0, 0, 0, 0.15);\n",
              "      filter: drop-shadow(0px 1px 2px rgba(0, 0, 0, 0.3));\n",
              "      fill: #FFFFFF;\n",
              "    }\n",
              "  </style>\n",
              "\n",
              "      <script>\n",
              "        const buttonEl =\n",
              "          document.querySelector('#df-96fd8db7-ab5a-4468-b7aa-a8505bf6df96 button.colab-df-convert');\n",
              "        buttonEl.style.display =\n",
              "          google.colab.kernel.accessAllowed ? 'block' : 'none';\n",
              "\n",
              "        async function convertToInteractive(key) {\n",
              "          const element = document.querySelector('#df-96fd8db7-ab5a-4468-b7aa-a8505bf6df96');\n",
              "          const dataTable =\n",
              "            await google.colab.kernel.invokeFunction('convertToInteractive',\n",
              "                                                     [key], {});\n",
              "          if (!dataTable) return;\n",
              "\n",
              "          const docLinkHtml = 'Like what you see? Visit the ' +\n",
              "            '<a target=\"_blank\" href=https://colab.research.google.com/notebooks/data_table.ipynb>data table notebook</a>'\n",
              "            + ' to learn more about interactive tables.';\n",
              "          element.innerHTML = '';\n",
              "          dataTable['output_type'] = 'display_data';\n",
              "          await google.colab.output.renderOutput(dataTable, element);\n",
              "          const docLink = document.createElement('div');\n",
              "          docLink.innerHTML = docLinkHtml;\n",
              "          element.appendChild(docLink);\n",
              "        }\n",
              "      </script>\n",
              "    </div>\n",
              "  </div>\n",
              "  "
            ]
          },
          "metadata": {},
          "execution_count": 14
        }
      ]
    },
    {
      "cell_type": "code",
      "source": [
        "df_boston.describe().T"
      ],
      "metadata": {
        "colab": {
          "base_uri": "https://localhost:8080/",
          "height": 483
        },
        "id": "H86JfYNsoDbm",
        "outputId": "16ca72d9-0ead-4389-a1e8-6b0099b16cb1"
      },
      "execution_count": 15,
      "outputs": [
        {
          "output_type": "execute_result",
          "data": {
            "text/plain": [
              "         count        mean         std        min         25%        50%  \\\n",
              "crim     415.0    2.452461    4.897241    0.00632    0.081005    0.21161   \n",
              "zn       415.0    9.602410   19.677404    0.00000    0.000000    0.00000   \n",
              "indus    415.0   10.829687    6.798613    0.46000    5.130000    8.56000   \n",
              "chas     415.0    0.000000    0.000000    0.00000    0.000000    0.00000   \n",
              "nox      415.0    0.547168    0.110428    0.38500    0.449000    0.52400   \n",
              "rm       415.0    6.267554    0.611602    4.36800    5.886000    6.19300   \n",
              "age      415.0   67.384337   28.072043    2.90000   43.550000   73.90000   \n",
              "dis      415.0    3.852640    1.964763    1.16910    2.203200    3.37790   \n",
              "rad      415.0    8.684337    8.196802    1.00000    4.000000    5.00000   \n",
              "tax      415.0  393.853012  161.196133  188.00000  279.000000  315.00000   \n",
              "ptratio  415.0   18.467952    2.137611   12.60000   17.400000   19.00000   \n",
              "b        415.0  374.235373   51.582784   83.45000  377.880000  392.63000   \n",
              "lstat    415.0   12.275976    6.474602    1.73000    7.210000   11.22000   \n",
              "medv     415.0   22.353976    8.077366    5.60000   17.550000   21.20000   \n",
              "\n",
              "                75%       max  \n",
              "crim       2.152115   28.6558  \n",
              "zn        12.500000   80.0000  \n",
              "indus     18.100000   27.7400  \n",
              "chas       0.000000    0.0000  \n",
              "nox        0.609000    0.8710  \n",
              "rm         6.559500    8.3370  \n",
              "age       93.700000  100.0000  \n",
              "dis        5.287300    9.2229  \n",
              "rad        8.000000   24.0000  \n",
              "tax      437.000000  711.0000  \n",
              "ptratio   20.200000   21.2000  \n",
              "b        396.900000  396.9000  \n",
              "lstat     16.215000   31.9900  \n",
              "medv      24.800000   50.0000  "
            ],
            "text/html": [
              "\n",
              "  <div id=\"df-e3b16a4d-b83d-4184-a1b8-c42fc192c6b7\">\n",
              "    <div class=\"colab-df-container\">\n",
              "      <div>\n",
              "<style scoped>\n",
              "    .dataframe tbody tr th:only-of-type {\n",
              "        vertical-align: middle;\n",
              "    }\n",
              "\n",
              "    .dataframe tbody tr th {\n",
              "        vertical-align: top;\n",
              "    }\n",
              "\n",
              "    .dataframe thead th {\n",
              "        text-align: right;\n",
              "    }\n",
              "</style>\n",
              "<table border=\"1\" class=\"dataframe\">\n",
              "  <thead>\n",
              "    <tr style=\"text-align: right;\">\n",
              "      <th></th>\n",
              "      <th>count</th>\n",
              "      <th>mean</th>\n",
              "      <th>std</th>\n",
              "      <th>min</th>\n",
              "      <th>25%</th>\n",
              "      <th>50%</th>\n",
              "      <th>75%</th>\n",
              "      <th>max</th>\n",
              "    </tr>\n",
              "  </thead>\n",
              "  <tbody>\n",
              "    <tr>\n",
              "      <th>crim</th>\n",
              "      <td>415.0</td>\n",
              "      <td>2.452461</td>\n",
              "      <td>4.897241</td>\n",
              "      <td>0.00632</td>\n",
              "      <td>0.081005</td>\n",
              "      <td>0.21161</td>\n",
              "      <td>2.152115</td>\n",
              "      <td>28.6558</td>\n",
              "    </tr>\n",
              "    <tr>\n",
              "      <th>zn</th>\n",
              "      <td>415.0</td>\n",
              "      <td>9.602410</td>\n",
              "      <td>19.677404</td>\n",
              "      <td>0.00000</td>\n",
              "      <td>0.000000</td>\n",
              "      <td>0.00000</td>\n",
              "      <td>12.500000</td>\n",
              "      <td>80.0000</td>\n",
              "    </tr>\n",
              "    <tr>\n",
              "      <th>indus</th>\n",
              "      <td>415.0</td>\n",
              "      <td>10.829687</td>\n",
              "      <td>6.798613</td>\n",
              "      <td>0.46000</td>\n",
              "      <td>5.130000</td>\n",
              "      <td>8.56000</td>\n",
              "      <td>18.100000</td>\n",
              "      <td>27.7400</td>\n",
              "    </tr>\n",
              "    <tr>\n",
              "      <th>chas</th>\n",
              "      <td>415.0</td>\n",
              "      <td>0.000000</td>\n",
              "      <td>0.000000</td>\n",
              "      <td>0.00000</td>\n",
              "      <td>0.000000</td>\n",
              "      <td>0.00000</td>\n",
              "      <td>0.000000</td>\n",
              "      <td>0.0000</td>\n",
              "    </tr>\n",
              "    <tr>\n",
              "      <th>nox</th>\n",
              "      <td>415.0</td>\n",
              "      <td>0.547168</td>\n",
              "      <td>0.110428</td>\n",
              "      <td>0.38500</td>\n",
              "      <td>0.449000</td>\n",
              "      <td>0.52400</td>\n",
              "      <td>0.609000</td>\n",
              "      <td>0.8710</td>\n",
              "    </tr>\n",
              "    <tr>\n",
              "      <th>rm</th>\n",
              "      <td>415.0</td>\n",
              "      <td>6.267554</td>\n",
              "      <td>0.611602</td>\n",
              "      <td>4.36800</td>\n",
              "      <td>5.886000</td>\n",
              "      <td>6.19300</td>\n",
              "      <td>6.559500</td>\n",
              "      <td>8.3370</td>\n",
              "    </tr>\n",
              "    <tr>\n",
              "      <th>age</th>\n",
              "      <td>415.0</td>\n",
              "      <td>67.384337</td>\n",
              "      <td>28.072043</td>\n",
              "      <td>2.90000</td>\n",
              "      <td>43.550000</td>\n",
              "      <td>73.90000</td>\n",
              "      <td>93.700000</td>\n",
              "      <td>100.0000</td>\n",
              "    </tr>\n",
              "    <tr>\n",
              "      <th>dis</th>\n",
              "      <td>415.0</td>\n",
              "      <td>3.852640</td>\n",
              "      <td>1.964763</td>\n",
              "      <td>1.16910</td>\n",
              "      <td>2.203200</td>\n",
              "      <td>3.37790</td>\n",
              "      <td>5.287300</td>\n",
              "      <td>9.2229</td>\n",
              "    </tr>\n",
              "    <tr>\n",
              "      <th>rad</th>\n",
              "      <td>415.0</td>\n",
              "      <td>8.684337</td>\n",
              "      <td>8.196802</td>\n",
              "      <td>1.00000</td>\n",
              "      <td>4.000000</td>\n",
              "      <td>5.00000</td>\n",
              "      <td>8.000000</td>\n",
              "      <td>24.0000</td>\n",
              "    </tr>\n",
              "    <tr>\n",
              "      <th>tax</th>\n",
              "      <td>415.0</td>\n",
              "      <td>393.853012</td>\n",
              "      <td>161.196133</td>\n",
              "      <td>188.00000</td>\n",
              "      <td>279.000000</td>\n",
              "      <td>315.00000</td>\n",
              "      <td>437.000000</td>\n",
              "      <td>711.0000</td>\n",
              "    </tr>\n",
              "    <tr>\n",
              "      <th>ptratio</th>\n",
              "      <td>415.0</td>\n",
              "      <td>18.467952</td>\n",
              "      <td>2.137611</td>\n",
              "      <td>12.60000</td>\n",
              "      <td>17.400000</td>\n",
              "      <td>19.00000</td>\n",
              "      <td>20.200000</td>\n",
              "      <td>21.2000</td>\n",
              "    </tr>\n",
              "    <tr>\n",
              "      <th>b</th>\n",
              "      <td>415.0</td>\n",
              "      <td>374.235373</td>\n",
              "      <td>51.582784</td>\n",
              "      <td>83.45000</td>\n",
              "      <td>377.880000</td>\n",
              "      <td>392.63000</td>\n",
              "      <td>396.900000</td>\n",
              "      <td>396.9000</td>\n",
              "    </tr>\n",
              "    <tr>\n",
              "      <th>lstat</th>\n",
              "      <td>415.0</td>\n",
              "      <td>12.275976</td>\n",
              "      <td>6.474602</td>\n",
              "      <td>1.73000</td>\n",
              "      <td>7.210000</td>\n",
              "      <td>11.22000</td>\n",
              "      <td>16.215000</td>\n",
              "      <td>31.9900</td>\n",
              "    </tr>\n",
              "    <tr>\n",
              "      <th>medv</th>\n",
              "      <td>415.0</td>\n",
              "      <td>22.353976</td>\n",
              "      <td>8.077366</td>\n",
              "      <td>5.60000</td>\n",
              "      <td>17.550000</td>\n",
              "      <td>21.20000</td>\n",
              "      <td>24.800000</td>\n",
              "      <td>50.0000</td>\n",
              "    </tr>\n",
              "  </tbody>\n",
              "</table>\n",
              "</div>\n",
              "      <button class=\"colab-df-convert\" onclick=\"convertToInteractive('df-e3b16a4d-b83d-4184-a1b8-c42fc192c6b7')\"\n",
              "              title=\"Convert this dataframe to an interactive table.\"\n",
              "              style=\"display:none;\">\n",
              "        \n",
              "  <svg xmlns=\"http://www.w3.org/2000/svg\" height=\"24px\"viewBox=\"0 0 24 24\"\n",
              "       width=\"24px\">\n",
              "    <path d=\"M0 0h24v24H0V0z\" fill=\"none\"/>\n",
              "    <path d=\"M18.56 5.44l.94 2.06.94-2.06 2.06-.94-2.06-.94-.94-2.06-.94 2.06-2.06.94zm-11 1L8.5 8.5l.94-2.06 2.06-.94-2.06-.94L8.5 2.5l-.94 2.06-2.06.94zm10 10l.94 2.06.94-2.06 2.06-.94-2.06-.94-.94-2.06-.94 2.06-2.06.94z\"/><path d=\"M17.41 7.96l-1.37-1.37c-.4-.4-.92-.59-1.43-.59-.52 0-1.04.2-1.43.59L10.3 9.45l-7.72 7.72c-.78.78-.78 2.05 0 2.83L4 21.41c.39.39.9.59 1.41.59.51 0 1.02-.2 1.41-.59l7.78-7.78 2.81-2.81c.8-.78.8-2.07 0-2.86zM5.41 20L4 18.59l7.72-7.72 1.47 1.35L5.41 20z\"/>\n",
              "  </svg>\n",
              "      </button>\n",
              "      \n",
              "  <style>\n",
              "    .colab-df-container {\n",
              "      display:flex;\n",
              "      flex-wrap:wrap;\n",
              "      gap: 12px;\n",
              "    }\n",
              "\n",
              "    .colab-df-convert {\n",
              "      background-color: #E8F0FE;\n",
              "      border: none;\n",
              "      border-radius: 50%;\n",
              "      cursor: pointer;\n",
              "      display: none;\n",
              "      fill: #1967D2;\n",
              "      height: 32px;\n",
              "      padding: 0 0 0 0;\n",
              "      width: 32px;\n",
              "    }\n",
              "\n",
              "    .colab-df-convert:hover {\n",
              "      background-color: #E2EBFA;\n",
              "      box-shadow: 0px 1px 2px rgba(60, 64, 67, 0.3), 0px 1px 3px 1px rgba(60, 64, 67, 0.15);\n",
              "      fill: #174EA6;\n",
              "    }\n",
              "\n",
              "    [theme=dark] .colab-df-convert {\n",
              "      background-color: #3B4455;\n",
              "      fill: #D2E3FC;\n",
              "    }\n",
              "\n",
              "    [theme=dark] .colab-df-convert:hover {\n",
              "      background-color: #434B5C;\n",
              "      box-shadow: 0px 1px 3px 1px rgba(0, 0, 0, 0.15);\n",
              "      filter: drop-shadow(0px 1px 2px rgba(0, 0, 0, 0.3));\n",
              "      fill: #FFFFFF;\n",
              "    }\n",
              "  </style>\n",
              "\n",
              "      <script>\n",
              "        const buttonEl =\n",
              "          document.querySelector('#df-e3b16a4d-b83d-4184-a1b8-c42fc192c6b7 button.colab-df-convert');\n",
              "        buttonEl.style.display =\n",
              "          google.colab.kernel.accessAllowed ? 'block' : 'none';\n",
              "\n",
              "        async function convertToInteractive(key) {\n",
              "          const element = document.querySelector('#df-e3b16a4d-b83d-4184-a1b8-c42fc192c6b7');\n",
              "          const dataTable =\n",
              "            await google.colab.kernel.invokeFunction('convertToInteractive',\n",
              "                                                     [key], {});\n",
              "          if (!dataTable) return;\n",
              "\n",
              "          const docLinkHtml = 'Like what you see? Visit the ' +\n",
              "            '<a target=\"_blank\" href=https://colab.research.google.com/notebooks/data_table.ipynb>data table notebook</a>'\n",
              "            + ' to learn more about interactive tables.';\n",
              "          element.innerHTML = '';\n",
              "          dataTable['output_type'] = 'display_data';\n",
              "          await google.colab.output.renderOutput(dataTable, element);\n",
              "          const docLink = document.createElement('div');\n",
              "          docLink.innerHTML = docLinkHtml;\n",
              "          element.appendChild(docLink);\n",
              "        }\n",
              "      </script>\n",
              "    </div>\n",
              "  </div>\n",
              "  "
            ]
          },
          "metadata": {},
          "execution_count": 15
        }
      ]
    },
    {
      "cell_type": "markdown",
      "source": [
        "## Normalization"
      ],
      "metadata": {
        "id": "QibCauCUoeR2"
      }
    },
    {
      "cell_type": "code",
      "source": [
        "features = df_boston.drop('medv', axis=1)\n",
        "labels = df_boston['medv']"
      ],
      "metadata": {
        "id": "9EFcE_mxolXl"
      },
      "execution_count": 52,
      "outputs": []
    },
    {
      "cell_type": "code",
      "source": [
        "ss = StandardScaler()\n",
        "mm = MinMaxScaler()\n",
        "features_ss = ss.fit_transform(features)\n",
        "features_mm = mm.fit_transform(features)"
      ],
      "metadata": {
        "id": "6H8xeyfuo0qY"
      },
      "execution_count": 17,
      "outputs": []
    },
    {
      "cell_type": "code",
      "source": [
        "features_ss.shape"
      ],
      "metadata": {
        "colab": {
          "base_uri": "https://localhost:8080/"
        },
        "id": "ocK8NORoRT8q",
        "outputId": "3539da6a-012d-445a-a90d-d6f5fdd9b9c2"
      },
      "execution_count": 18,
      "outputs": [
        {
          "output_type": "execute_result",
          "data": {
            "text/plain": [
              "(415, 13)"
            ]
          },
          "metadata": {},
          "execution_count": 18
        }
      ]
    },
    {
      "cell_type": "code",
      "source": [
        "labels.shape"
      ],
      "metadata": {
        "colab": {
          "base_uri": "https://localhost:8080/"
        },
        "id": "nWF89dndReWf",
        "outputId": "3d1ac9f0-d567-48d9-f56e-ade73bb27241"
      },
      "execution_count": 19,
      "outputs": [
        {
          "output_type": "execute_result",
          "data": {
            "text/plain": [
              "(415,)"
            ]
          },
          "metadata": {},
          "execution_count": 19
        }
      ]
    },
    {
      "cell_type": "code",
      "source": [
        "print('Cross Val Score for Standard Scaler: ')\n",
        "result = cross_val_score(RandomForestRegressor(), features_ss, labels, cv=5, n_jobs=-1)\n",
        "print(np.mean(result))"
      ],
      "metadata": {
        "id": "XT5UwgxOo_46",
        "colab": {
          "base_uri": "https://localhost:8080/"
        },
        "outputId": "5d22d0ae-9515-4dd2-a351-39266c51d48c"
      },
      "execution_count": 84,
      "outputs": [
        {
          "output_type": "stream",
          "name": "stdout",
          "text": [
            "Cross Val Score for Standard Scaler: \n",
            "0.6523532497957076\n"
          ]
        }
      ]
    },
    {
      "cell_type": "code",
      "source": [
        "print('Cross Val Score for MinMax Scaler: ')\n",
        "result = cross_val_score(RandomForestRegressor(), features_mm, labels, cv=5, n_jobs=-1)\n",
        "print(np.mean(result))"
      ],
      "metadata": {
        "colab": {
          "base_uri": "https://localhost:8080/"
        },
        "id": "QW9OO6rTNqQy",
        "outputId": "58877255-48f8-4094-f372-a3c6859516c5"
      },
      "execution_count": 85,
      "outputs": [
        {
          "output_type": "stream",
          "name": "stdout",
          "text": [
            "Cross Val Score for MinMax Scaler: \n",
            "0.6600194640836075\n"
          ]
        }
      ]
    },
    {
      "cell_type": "code",
      "source": [
        "X = pd.DataFrame(features_ss, columns=features.columns)\n",
        "X.head()"
      ],
      "metadata": {
        "colab": {
          "base_uri": "https://localhost:8080/",
          "height": 248
        },
        "id": "0ctrWCAqNy1v",
        "outputId": "d1780804-3500-4ad8-e967-cf80a36240b0"
      },
      "execution_count": 22,
      "outputs": [
        {
          "output_type": "execute_result",
          "data": {
            "text/plain": [
              "       crim        zn     indus  chas       nox        rm       age       dis  \\\n",
              "0 -0.500097  0.427278 -1.254663   0.0 -0.083120  0.503296 -0.077906  0.120954   \n",
              "1 -0.495805 -0.488581 -0.553675   0.0 -0.708718  0.251194  0.410713  0.567909   \n",
              "2 -0.495810 -0.488581 -0.553675   0.0 -0.708718  1.501880 -0.224135  0.567909   \n",
              "3 -0.494771 -0.488581 -1.273808   0.0 -0.808451  1.195757 -0.769819  1.125951   \n",
              "4 -0.487272 -0.488581 -1.273808   0.0 -0.808451  1.439673 -0.470228  1.125951   \n",
              "\n",
              "        rad       tax   ptratio         b     lstat  \n",
              "0 -0.938612 -0.607776 -1.483794  0.439914 -1.128221  \n",
              "1 -0.816465 -0.943176 -0.312853  0.439914 -0.484935  \n",
              "2 -0.816465 -0.943176 -0.312853  0.360916 -1.275125  \n",
              "3 -0.694319 -1.067398  0.108686  0.395854 -1.443679  \n",
              "4 -0.694319 -1.067398  0.108686  0.439914 -1.074098  "
            ],
            "text/html": [
              "\n",
              "  <div id=\"df-a61ba63f-9b29-486b-9179-78488bfb27d2\">\n",
              "    <div class=\"colab-df-container\">\n",
              "      <div>\n",
              "<style scoped>\n",
              "    .dataframe tbody tr th:only-of-type {\n",
              "        vertical-align: middle;\n",
              "    }\n",
              "\n",
              "    .dataframe tbody tr th {\n",
              "        vertical-align: top;\n",
              "    }\n",
              "\n",
              "    .dataframe thead th {\n",
              "        text-align: right;\n",
              "    }\n",
              "</style>\n",
              "<table border=\"1\" class=\"dataframe\">\n",
              "  <thead>\n",
              "    <tr style=\"text-align: right;\">\n",
              "      <th></th>\n",
              "      <th>crim</th>\n",
              "      <th>zn</th>\n",
              "      <th>indus</th>\n",
              "      <th>chas</th>\n",
              "      <th>nox</th>\n",
              "      <th>rm</th>\n",
              "      <th>age</th>\n",
              "      <th>dis</th>\n",
              "      <th>rad</th>\n",
              "      <th>tax</th>\n",
              "      <th>ptratio</th>\n",
              "      <th>b</th>\n",
              "      <th>lstat</th>\n",
              "    </tr>\n",
              "  </thead>\n",
              "  <tbody>\n",
              "    <tr>\n",
              "      <th>0</th>\n",
              "      <td>-0.500097</td>\n",
              "      <td>0.427278</td>\n",
              "      <td>-1.254663</td>\n",
              "      <td>0.0</td>\n",
              "      <td>-0.083120</td>\n",
              "      <td>0.503296</td>\n",
              "      <td>-0.077906</td>\n",
              "      <td>0.120954</td>\n",
              "      <td>-0.938612</td>\n",
              "      <td>-0.607776</td>\n",
              "      <td>-1.483794</td>\n",
              "      <td>0.439914</td>\n",
              "      <td>-1.128221</td>\n",
              "    </tr>\n",
              "    <tr>\n",
              "      <th>1</th>\n",
              "      <td>-0.495805</td>\n",
              "      <td>-0.488581</td>\n",
              "      <td>-0.553675</td>\n",
              "      <td>0.0</td>\n",
              "      <td>-0.708718</td>\n",
              "      <td>0.251194</td>\n",
              "      <td>0.410713</td>\n",
              "      <td>0.567909</td>\n",
              "      <td>-0.816465</td>\n",
              "      <td>-0.943176</td>\n",
              "      <td>-0.312853</td>\n",
              "      <td>0.439914</td>\n",
              "      <td>-0.484935</td>\n",
              "    </tr>\n",
              "    <tr>\n",
              "      <th>2</th>\n",
              "      <td>-0.495810</td>\n",
              "      <td>-0.488581</td>\n",
              "      <td>-0.553675</td>\n",
              "      <td>0.0</td>\n",
              "      <td>-0.708718</td>\n",
              "      <td>1.501880</td>\n",
              "      <td>-0.224135</td>\n",
              "      <td>0.567909</td>\n",
              "      <td>-0.816465</td>\n",
              "      <td>-0.943176</td>\n",
              "      <td>-0.312853</td>\n",
              "      <td>0.360916</td>\n",
              "      <td>-1.275125</td>\n",
              "    </tr>\n",
              "    <tr>\n",
              "      <th>3</th>\n",
              "      <td>-0.494771</td>\n",
              "      <td>-0.488581</td>\n",
              "      <td>-1.273808</td>\n",
              "      <td>0.0</td>\n",
              "      <td>-0.808451</td>\n",
              "      <td>1.195757</td>\n",
              "      <td>-0.769819</td>\n",
              "      <td>1.125951</td>\n",
              "      <td>-0.694319</td>\n",
              "      <td>-1.067398</td>\n",
              "      <td>0.108686</td>\n",
              "      <td>0.395854</td>\n",
              "      <td>-1.443679</td>\n",
              "    </tr>\n",
              "    <tr>\n",
              "      <th>4</th>\n",
              "      <td>-0.487272</td>\n",
              "      <td>-0.488581</td>\n",
              "      <td>-1.273808</td>\n",
              "      <td>0.0</td>\n",
              "      <td>-0.808451</td>\n",
              "      <td>1.439673</td>\n",
              "      <td>-0.470228</td>\n",
              "      <td>1.125951</td>\n",
              "      <td>-0.694319</td>\n",
              "      <td>-1.067398</td>\n",
              "      <td>0.108686</td>\n",
              "      <td>0.439914</td>\n",
              "      <td>-1.074098</td>\n",
              "    </tr>\n",
              "  </tbody>\n",
              "</table>\n",
              "</div>\n",
              "      <button class=\"colab-df-convert\" onclick=\"convertToInteractive('df-a61ba63f-9b29-486b-9179-78488bfb27d2')\"\n",
              "              title=\"Convert this dataframe to an interactive table.\"\n",
              "              style=\"display:none;\">\n",
              "        \n",
              "  <svg xmlns=\"http://www.w3.org/2000/svg\" height=\"24px\"viewBox=\"0 0 24 24\"\n",
              "       width=\"24px\">\n",
              "    <path d=\"M0 0h24v24H0V0z\" fill=\"none\"/>\n",
              "    <path d=\"M18.56 5.44l.94 2.06.94-2.06 2.06-.94-2.06-.94-.94-2.06-.94 2.06-2.06.94zm-11 1L8.5 8.5l.94-2.06 2.06-.94-2.06-.94L8.5 2.5l-.94 2.06-2.06.94zm10 10l.94 2.06.94-2.06 2.06-.94-2.06-.94-.94-2.06-.94 2.06-2.06.94z\"/><path d=\"M17.41 7.96l-1.37-1.37c-.4-.4-.92-.59-1.43-.59-.52 0-1.04.2-1.43.59L10.3 9.45l-7.72 7.72c-.78.78-.78 2.05 0 2.83L4 21.41c.39.39.9.59 1.41.59.51 0 1.02-.2 1.41-.59l7.78-7.78 2.81-2.81c.8-.78.8-2.07 0-2.86zM5.41 20L4 18.59l7.72-7.72 1.47 1.35L5.41 20z\"/>\n",
              "  </svg>\n",
              "      </button>\n",
              "      \n",
              "  <style>\n",
              "    .colab-df-container {\n",
              "      display:flex;\n",
              "      flex-wrap:wrap;\n",
              "      gap: 12px;\n",
              "    }\n",
              "\n",
              "    .colab-df-convert {\n",
              "      background-color: #E8F0FE;\n",
              "      border: none;\n",
              "      border-radius: 50%;\n",
              "      cursor: pointer;\n",
              "      display: none;\n",
              "      fill: #1967D2;\n",
              "      height: 32px;\n",
              "      padding: 0 0 0 0;\n",
              "      width: 32px;\n",
              "    }\n",
              "\n",
              "    .colab-df-convert:hover {\n",
              "      background-color: #E2EBFA;\n",
              "      box-shadow: 0px 1px 2px rgba(60, 64, 67, 0.3), 0px 1px 3px 1px rgba(60, 64, 67, 0.15);\n",
              "      fill: #174EA6;\n",
              "    }\n",
              "\n",
              "    [theme=dark] .colab-df-convert {\n",
              "      background-color: #3B4455;\n",
              "      fill: #D2E3FC;\n",
              "    }\n",
              "\n",
              "    [theme=dark] .colab-df-convert:hover {\n",
              "      background-color: #434B5C;\n",
              "      box-shadow: 0px 1px 3px 1px rgba(0, 0, 0, 0.15);\n",
              "      filter: drop-shadow(0px 1px 2px rgba(0, 0, 0, 0.3));\n",
              "      fill: #FFFFFF;\n",
              "    }\n",
              "  </style>\n",
              "\n",
              "      <script>\n",
              "        const buttonEl =\n",
              "          document.querySelector('#df-a61ba63f-9b29-486b-9179-78488bfb27d2 button.colab-df-convert');\n",
              "        buttonEl.style.display =\n",
              "          google.colab.kernel.accessAllowed ? 'block' : 'none';\n",
              "\n",
              "        async function convertToInteractive(key) {\n",
              "          const element = document.querySelector('#df-a61ba63f-9b29-486b-9179-78488bfb27d2');\n",
              "          const dataTable =\n",
              "            await google.colab.kernel.invokeFunction('convertToInteractive',\n",
              "                                                     [key], {});\n",
              "          if (!dataTable) return;\n",
              "\n",
              "          const docLinkHtml = 'Like what you see? Visit the ' +\n",
              "            '<a target=\"_blank\" href=https://colab.research.google.com/notebooks/data_table.ipynb>data table notebook</a>'\n",
              "            + ' to learn more about interactive tables.';\n",
              "          element.innerHTML = '';\n",
              "          dataTable['output_type'] = 'display_data';\n",
              "          await google.colab.output.renderOutput(dataTable, element);\n",
              "          const docLink = document.createElement('div');\n",
              "          docLink.innerHTML = docLinkHtml;\n",
              "          element.appendChild(docLink);\n",
              "        }\n",
              "      </script>\n",
              "    </div>\n",
              "  </div>\n",
              "  "
            ]
          },
          "metadata": {},
          "execution_count": 22
        }
      ]
    },
    {
      "cell_type": "code",
      "source": [
        "features.head()"
      ],
      "metadata": {
        "colab": {
          "base_uri": "https://localhost:8080/",
          "height": 204
        },
        "id": "NYq4vPFphpW0",
        "outputId": "5b81dfc0-376d-4ff1-cbe6-c2626eb8b220"
      },
      "execution_count": 87,
      "outputs": [
        {
          "output_type": "execute_result",
          "data": {
            "text/plain": [
              "   crim    zn  indus  chas  nox   rm   age  dis  rad  tax  ptratio      b  \\\n",
              "0  0.01 18.00   2.31     0 0.54 6.58 65.20 4.09    1  296    15.30 396.90   \n",
              "1  0.03  0.00   7.07     0 0.47 6.42 78.90 4.97    2  242    17.80 396.90   \n",
              "2  0.03  0.00   7.07     0 0.47 7.18 61.10 4.97    2  242    17.80 392.83   \n",
              "3  0.03  0.00   2.18     0 0.46 7.00 45.80 6.06    3  222    18.70 394.63   \n",
              "4  0.07  0.00   2.18     0 0.46 7.15 54.20 6.06    3  222    18.70 396.90   \n",
              "\n",
              "   lstat  \n",
              "0   4.98  \n",
              "1   9.14  \n",
              "2   4.03  \n",
              "3   2.94  \n",
              "4   5.33  "
            ],
            "text/html": [
              "\n",
              "  <div id=\"df-cd4b2bf1-76cc-4303-8967-634660a0e5bf\">\n",
              "    <div class=\"colab-df-container\">\n",
              "      <div>\n",
              "<style scoped>\n",
              "    .dataframe tbody tr th:only-of-type {\n",
              "        vertical-align: middle;\n",
              "    }\n",
              "\n",
              "    .dataframe tbody tr th {\n",
              "        vertical-align: top;\n",
              "    }\n",
              "\n",
              "    .dataframe thead th {\n",
              "        text-align: right;\n",
              "    }\n",
              "</style>\n",
              "<table border=\"1\" class=\"dataframe\">\n",
              "  <thead>\n",
              "    <tr style=\"text-align: right;\">\n",
              "      <th></th>\n",
              "      <th>crim</th>\n",
              "      <th>zn</th>\n",
              "      <th>indus</th>\n",
              "      <th>chas</th>\n",
              "      <th>nox</th>\n",
              "      <th>rm</th>\n",
              "      <th>age</th>\n",
              "      <th>dis</th>\n",
              "      <th>rad</th>\n",
              "      <th>tax</th>\n",
              "      <th>ptratio</th>\n",
              "      <th>b</th>\n",
              "      <th>lstat</th>\n",
              "    </tr>\n",
              "  </thead>\n",
              "  <tbody>\n",
              "    <tr>\n",
              "      <th>0</th>\n",
              "      <td>0.01</td>\n",
              "      <td>18.00</td>\n",
              "      <td>2.31</td>\n",
              "      <td>0</td>\n",
              "      <td>0.54</td>\n",
              "      <td>6.58</td>\n",
              "      <td>65.20</td>\n",
              "      <td>4.09</td>\n",
              "      <td>1</td>\n",
              "      <td>296</td>\n",
              "      <td>15.30</td>\n",
              "      <td>396.90</td>\n",
              "      <td>4.98</td>\n",
              "    </tr>\n",
              "    <tr>\n",
              "      <th>1</th>\n",
              "      <td>0.03</td>\n",
              "      <td>0.00</td>\n",
              "      <td>7.07</td>\n",
              "      <td>0</td>\n",
              "      <td>0.47</td>\n",
              "      <td>6.42</td>\n",
              "      <td>78.90</td>\n",
              "      <td>4.97</td>\n",
              "      <td>2</td>\n",
              "      <td>242</td>\n",
              "      <td>17.80</td>\n",
              "      <td>396.90</td>\n",
              "      <td>9.14</td>\n",
              "    </tr>\n",
              "    <tr>\n",
              "      <th>2</th>\n",
              "      <td>0.03</td>\n",
              "      <td>0.00</td>\n",
              "      <td>7.07</td>\n",
              "      <td>0</td>\n",
              "      <td>0.47</td>\n",
              "      <td>7.18</td>\n",
              "      <td>61.10</td>\n",
              "      <td>4.97</td>\n",
              "      <td>2</td>\n",
              "      <td>242</td>\n",
              "      <td>17.80</td>\n",
              "      <td>392.83</td>\n",
              "      <td>4.03</td>\n",
              "    </tr>\n",
              "    <tr>\n",
              "      <th>3</th>\n",
              "      <td>0.03</td>\n",
              "      <td>0.00</td>\n",
              "      <td>2.18</td>\n",
              "      <td>0</td>\n",
              "      <td>0.46</td>\n",
              "      <td>7.00</td>\n",
              "      <td>45.80</td>\n",
              "      <td>6.06</td>\n",
              "      <td>3</td>\n",
              "      <td>222</td>\n",
              "      <td>18.70</td>\n",
              "      <td>394.63</td>\n",
              "      <td>2.94</td>\n",
              "    </tr>\n",
              "    <tr>\n",
              "      <th>4</th>\n",
              "      <td>0.07</td>\n",
              "      <td>0.00</td>\n",
              "      <td>2.18</td>\n",
              "      <td>0</td>\n",
              "      <td>0.46</td>\n",
              "      <td>7.15</td>\n",
              "      <td>54.20</td>\n",
              "      <td>6.06</td>\n",
              "      <td>3</td>\n",
              "      <td>222</td>\n",
              "      <td>18.70</td>\n",
              "      <td>396.90</td>\n",
              "      <td>5.33</td>\n",
              "    </tr>\n",
              "  </tbody>\n",
              "</table>\n",
              "</div>\n",
              "      <button class=\"colab-df-convert\" onclick=\"convertToInteractive('df-cd4b2bf1-76cc-4303-8967-634660a0e5bf')\"\n",
              "              title=\"Convert this dataframe to an interactive table.\"\n",
              "              style=\"display:none;\">\n",
              "        \n",
              "  <svg xmlns=\"http://www.w3.org/2000/svg\" height=\"24px\"viewBox=\"0 0 24 24\"\n",
              "       width=\"24px\">\n",
              "    <path d=\"M0 0h24v24H0V0z\" fill=\"none\"/>\n",
              "    <path d=\"M18.56 5.44l.94 2.06.94-2.06 2.06-.94-2.06-.94-.94-2.06-.94 2.06-2.06.94zm-11 1L8.5 8.5l.94-2.06 2.06-.94-2.06-.94L8.5 2.5l-.94 2.06-2.06.94zm10 10l.94 2.06.94-2.06 2.06-.94-2.06-.94-.94-2.06-.94 2.06-2.06.94z\"/><path d=\"M17.41 7.96l-1.37-1.37c-.4-.4-.92-.59-1.43-.59-.52 0-1.04.2-1.43.59L10.3 9.45l-7.72 7.72c-.78.78-.78 2.05 0 2.83L4 21.41c.39.39.9.59 1.41.59.51 0 1.02-.2 1.41-.59l7.78-7.78 2.81-2.81c.8-.78.8-2.07 0-2.86zM5.41 20L4 18.59l7.72-7.72 1.47 1.35L5.41 20z\"/>\n",
              "  </svg>\n",
              "      </button>\n",
              "      \n",
              "  <style>\n",
              "    .colab-df-container {\n",
              "      display:flex;\n",
              "      flex-wrap:wrap;\n",
              "      gap: 12px;\n",
              "    }\n",
              "\n",
              "    .colab-df-convert {\n",
              "      background-color: #E8F0FE;\n",
              "      border: none;\n",
              "      border-radius: 50%;\n",
              "      cursor: pointer;\n",
              "      display: none;\n",
              "      fill: #1967D2;\n",
              "      height: 32px;\n",
              "      padding: 0 0 0 0;\n",
              "      width: 32px;\n",
              "    }\n",
              "\n",
              "    .colab-df-convert:hover {\n",
              "      background-color: #E2EBFA;\n",
              "      box-shadow: 0px 1px 2px rgba(60, 64, 67, 0.3), 0px 1px 3px 1px rgba(60, 64, 67, 0.15);\n",
              "      fill: #174EA6;\n",
              "    }\n",
              "\n",
              "    [theme=dark] .colab-df-convert {\n",
              "      background-color: #3B4455;\n",
              "      fill: #D2E3FC;\n",
              "    }\n",
              "\n",
              "    [theme=dark] .colab-df-convert:hover {\n",
              "      background-color: #434B5C;\n",
              "      box-shadow: 0px 1px 3px 1px rgba(0, 0, 0, 0.15);\n",
              "      filter: drop-shadow(0px 1px 2px rgba(0, 0, 0, 0.3));\n",
              "      fill: #FFFFFF;\n",
              "    }\n",
              "  </style>\n",
              "\n",
              "      <script>\n",
              "        const buttonEl =\n",
              "          document.querySelector('#df-cd4b2bf1-76cc-4303-8967-634660a0e5bf button.colab-df-convert');\n",
              "        buttonEl.style.display =\n",
              "          google.colab.kernel.accessAllowed ? 'block' : 'none';\n",
              "\n",
              "        async function convertToInteractive(key) {\n",
              "          const element = document.querySelector('#df-cd4b2bf1-76cc-4303-8967-634660a0e5bf');\n",
              "          const dataTable =\n",
              "            await google.colab.kernel.invokeFunction('convertToInteractive',\n",
              "                                                     [key], {});\n",
              "          if (!dataTable) return;\n",
              "\n",
              "          const docLinkHtml = 'Like what you see? Visit the ' +\n",
              "            '<a target=\"_blank\" href=https://colab.research.google.com/notebooks/data_table.ipynb>data table notebook</a>'\n",
              "            + ' to learn more about interactive tables.';\n",
              "          element.innerHTML = '';\n",
              "          dataTable['output_type'] = 'display_data';\n",
              "          await google.colab.output.renderOutput(dataTable, element);\n",
              "          const docLink = document.createElement('div');\n",
              "          docLink.innerHTML = docLinkHtml;\n",
              "          element.appendChild(docLink);\n",
              "        }\n",
              "      </script>\n",
              "    </div>\n",
              "  </div>\n",
              "  "
            ]
          },
          "metadata": {},
          "execution_count": 87
        }
      ]
    },
    {
      "cell_type": "markdown",
      "source": [
        "## Feature Selection"
      ],
      "metadata": {
        "id": "hBxlRjTEOOiI"
      }
    },
    {
      "cell_type": "markdown",
      "source": [
        "### LASSO"
      ],
      "metadata": {
        "id": "lpIqIXlzXiJK"
      }
    },
    {
      "cell_type": "code",
      "source": [
        "from sklearn.pipeline import Pipeline\n",
        "from sklearn.model_selection import train_test_split, GridSearchCV\n",
        "from sklearn.linear_model import Lasso"
      ],
      "metadata": {
        "id": "csgNwZ4nON5Q"
      },
      "execution_count": 23,
      "outputs": []
    },
    {
      "cell_type": "code",
      "source": [
        "X_train, X_test, y_train, y_test = train_test_split(X, labels, test_size=0.2, random_state=42)"
      ],
      "metadata": {
        "id": "IuQ7F-a2R-bs"
      },
      "execution_count": 24,
      "outputs": []
    },
    {
      "cell_type": "code",
      "source": [
        "pipeline = Pipeline([\n",
        "                     ('model',Lasso())\n",
        "])"
      ],
      "metadata": {
        "id": "8_Bugj5dOZXL"
      },
      "execution_count": 25,
      "outputs": []
    },
    {
      "cell_type": "code",
      "source": [
        "search = GridSearchCV(pipeline,\n",
        "                      {'model__alpha':np.arange(0.1,10,0.1)},\n",
        "                      cv = 5, scoring=\"neg_mean_squared_error\",verbose=3\n",
        "                      )"
      ],
      "metadata": {
        "id": "7lM0v5sKObjE"
      },
      "execution_count": 26,
      "outputs": []
    },
    {
      "cell_type": "code",
      "source": [
        "search.fit(X_train,y_train)"
      ],
      "metadata": {
        "colab": {
          "base_uri": "https://localhost:8080/",
          "height": 1000
        },
        "id": "ezdXooYhOe1J",
        "outputId": "071ce8b4-2aa0-4ce2-ba05-967777eeb8ab"
      },
      "execution_count": 27,
      "outputs": [
        {
          "output_type": "stream",
          "name": "stdout",
          "text": [
            "Fitting 5 folds for each of 99 candidates, totalling 495 fits\n",
            "[CV 1/5] END ................model__alpha=0.1;, score=-28.919 total time=   0.0s\n",
            "[CV 2/5] END ................model__alpha=0.1;, score=-17.302 total time=   0.0s\n",
            "[CV 3/5] END ................model__alpha=0.1;, score=-18.817 total time=   0.0s\n",
            "[CV 4/5] END ................model__alpha=0.1;, score=-10.629 total time=   0.0s\n",
            "[CV 5/5] END ................model__alpha=0.1;, score=-33.492 total time=   0.0s\n",
            "[CV 1/5] END ................model__alpha=0.2;, score=-28.802 total time=   0.0s\n",
            "[CV 2/5] END ................model__alpha=0.2;, score=-18.397 total time=   0.0s\n",
            "[CV 3/5] END ................model__alpha=0.2;, score=-19.800 total time=   0.0s\n",
            "[CV 4/5] END .................model__alpha=0.2;, score=-9.660 total time=   0.0s\n",
            "[CV 5/5] END ................model__alpha=0.2;, score=-33.657 total time=   0.0s\n",
            "[CV 1/5] END model__alpha=0.30000000000000004;, score=-28.897 total time=   0.0s\n",
            "[CV 2/5] END model__alpha=0.30000000000000004;, score=-18.692 total time=   0.0s\n",
            "[CV 3/5] END model__alpha=0.30000000000000004;, score=-20.906 total time=   0.0s\n",
            "[CV 4/5] END .model__alpha=0.30000000000000004;, score=-8.856 total time=   0.0s\n",
            "[CV 5/5] END model__alpha=0.30000000000000004;, score=-33.334 total time=   0.0s\n",
            "[CV 1/5] END ................model__alpha=0.4;, score=-28.944 total time=   0.0s\n",
            "[CV 2/5] END ................model__alpha=0.4;, score=-19.097 total time=   0.0s\n",
            "[CV 3/5] END ................model__alpha=0.4;, score=-22.144 total time=   0.0s\n",
            "[CV 4/5] END .................model__alpha=0.4;, score=-8.454 total time=   0.0s\n",
            "[CV 5/5] END ................model__alpha=0.4;, score=-33.193 total time=   0.0s\n",
            "[CV 1/5] END ................model__alpha=0.5;, score=-29.215 total time=   0.0s\n",
            "[CV 2/5] END ................model__alpha=0.5;, score=-19.607 total time=   0.0s\n",
            "[CV 3/5] END ................model__alpha=0.5;, score=-23.564 total time=   0.0s\n",
            "[CV 4/5] END .................model__alpha=0.5;, score=-8.300 total time=   0.0s\n",
            "[CV 5/5] END ................model__alpha=0.5;, score=-33.235 total time=   0.0s\n",
            "[CV 1/5] END ................model__alpha=0.6;, score=-29.478 total time=   0.0s\n",
            "[CV 2/5] END ................model__alpha=0.6;, score=-20.221 total time=   0.0s\n",
            "[CV 3/5] END ................model__alpha=0.6;, score=-24.797 total time=   0.0s\n",
            "[CV 4/5] END .................model__alpha=0.6;, score=-8.288 total time=   0.0s\n",
            "[CV 5/5] END ................model__alpha=0.6;, score=-33.341 total time=   0.0s\n",
            "[CV 1/5] END .model__alpha=0.7000000000000001;, score=-29.496 total time=   0.0s\n",
            "[CV 2/5] END .model__alpha=0.7000000000000001;, score=-20.453 total time=   0.0s\n",
            "[CV 3/5] END .model__alpha=0.7000000000000001;, score=-25.766 total time=   0.0s\n",
            "[CV 4/5] END ..model__alpha=0.7000000000000001;, score=-8.402 total time=   0.0s\n",
            "[CV 5/5] END .model__alpha=0.7000000000000001;, score=-33.193 total time=   0.0s\n",
            "[CV 1/5] END ................model__alpha=0.8;, score=-29.545 total time=   0.0s\n",
            "[CV 2/5] END ................model__alpha=0.8;, score=-20.661 total time=   0.0s\n",
            "[CV 3/5] END ................model__alpha=0.8;, score=-26.788 total time=   0.0s\n",
            "[CV 4/5] END .................model__alpha=0.8;, score=-8.423 total time=   0.0s\n",
            "[CV 5/5] END ................model__alpha=0.8;, score=-33.257 total time=   0.0s\n",
            "[CV 1/5] END ................model__alpha=0.9;, score=-29.625 total time=   0.0s\n",
            "[CV 2/5] END ................model__alpha=0.9;, score=-20.908 total time=   0.0s\n",
            "[CV 3/5] END ................model__alpha=0.9;, score=-27.864 total time=   0.0s\n",
            "[CV 4/5] END .................model__alpha=0.9;, score=-8.474 total time=   0.0s\n",
            "[CV 5/5] END ................model__alpha=0.9;, score=-33.362 total time=   0.0s\n",
            "[CV 1/5] END ................model__alpha=1.0;, score=-29.736 total time=   0.0s\n",
            "[CV 2/5] END ................model__alpha=1.0;, score=-21.194 total time=   0.0s\n",
            "[CV 3/5] END ................model__alpha=1.0;, score=-28.994 total time=   0.0s\n",
            "[CV 4/5] END .................model__alpha=1.0;, score=-8.555 total time=   0.0s\n",
            "[CV 5/5] END ................model__alpha=1.0;, score=-33.498 total time=   0.0s\n",
            "[CV 1/5] END ................model__alpha=1.1;, score=-29.878 total time=   0.0s\n",
            "[CV 2/5] END ................model__alpha=1.1;, score=-21.520 total time=   0.0s\n",
            "[CV 3/5] END ................model__alpha=1.1;, score=-30.178 total time=   0.0s\n",
            "[CV 4/5] END .................model__alpha=1.1;, score=-8.666 total time=   0.0s\n",
            "[CV 5/5] END ................model__alpha=1.1;, score=-33.666 total time=   0.0s\n",
            "[CV 1/5] END .model__alpha=1.2000000000000002;, score=-30.052 total time=   0.0s\n",
            "[CV 2/5] END .model__alpha=1.2000000000000002;, score=-21.885 total time=   0.0s\n",
            "[CV 3/5] END .model__alpha=1.2000000000000002;, score=-31.414 total time=   0.0s\n",
            "[CV 4/5] END ..model__alpha=1.2000000000000002;, score=-8.808 total time=   0.0s\n",
            "[CV 5/5] END .model__alpha=1.2000000000000002;, score=-33.864 total time=   0.0s\n",
            "[CV 1/5] END .model__alpha=1.3000000000000003;, score=-30.253 total time=   0.0s\n",
            "[CV 2/5] END .model__alpha=1.3000000000000003;, score=-22.290 total time=   0.0s\n",
            "[CV 3/5] END .model__alpha=1.3000000000000003;, score=-32.690 total time=   0.0s\n",
            "[CV 4/5] END ..model__alpha=1.3000000000000003;, score=-8.964 total time=   0.0s\n",
            "[CV 5/5] END .model__alpha=1.3000000000000003;, score=-34.089 total time=   0.0s\n",
            "[CV 1/5] END .model__alpha=1.4000000000000001;, score=-30.473 total time=   0.0s\n",
            "[CV 2/5] END .model__alpha=1.4000000000000001;, score=-22.734 total time=   0.0s\n",
            "[CV 3/5] END .model__alpha=1.4000000000000001;, score=-34.019 total time=   0.0s\n",
            "[CV 4/5] END ..model__alpha=1.4000000000000001;, score=-9.144 total time=   0.0s\n",
            "[CV 5/5] END .model__alpha=1.4000000000000001;, score=-34.333 total time=   0.0s\n",
            "[CV 1/5] END .model__alpha=1.5000000000000002;, score=-30.716 total time=   0.0s\n",
            "[CV 2/5] END .model__alpha=1.5000000000000002;, score=-23.217 total time=   0.0s\n",
            "[CV 3/5] END .model__alpha=1.5000000000000002;, score=-35.399 total time=   0.0s\n",
            "[CV 4/5] END ..model__alpha=1.5000000000000002;, score=-9.351 total time=   0.0s\n",
            "[CV 5/5] END .model__alpha=1.5000000000000002;, score=-34.607 total time=   0.0s\n",
            "[CV 1/5] END ................model__alpha=1.6;, score=-30.982 total time=   0.0s\n",
            "[CV 2/5] END ................model__alpha=1.6;, score=-23.740 total time=   0.0s\n",
            "[CV 3/5] END ................model__alpha=1.6;, score=-36.832 total time=   0.0s\n",
            "[CV 4/5] END .................model__alpha=1.6;, score=-9.587 total time=   0.0s\n",
            "[CV 5/5] END ................model__alpha=1.6;, score=-34.911 total time=   0.0s\n",
            "[CV 1/5] END .model__alpha=1.7000000000000002;, score=-31.271 total time=   0.0s\n",
            "[CV 2/5] END .model__alpha=1.7000000000000002;, score=-24.302 total time=   0.0s\n",
            "[CV 3/5] END .model__alpha=1.7000000000000002;, score=-38.316 total time=   0.0s\n",
            "[CV 4/5] END ..model__alpha=1.7000000000000002;, score=-9.852 total time=   0.0s\n",
            "[CV 5/5] END .model__alpha=1.7000000000000002;, score=-35.245 total time=   0.0s\n",
            "[CV 1/5] END .model__alpha=1.8000000000000003;, score=-31.585 total time=   0.0s\n",
            "[CV 2/5] END .model__alpha=1.8000000000000003;, score=-24.903 total time=   0.0s\n",
            "[CV 3/5] END .model__alpha=1.8000000000000003;, score=-39.853 total time=   0.0s\n",
            "[CV 4/5] END .model__alpha=1.8000000000000003;, score=-10.144 total time=   0.0s\n",
            "[CV 5/5] END .model__alpha=1.8000000000000003;, score=-35.609 total time=   0.0s\n",
            "[CV 1/5] END .model__alpha=1.9000000000000001;, score=-31.921 total time=   0.0s\n",
            "[CV 2/5] END .model__alpha=1.9000000000000001;, score=-25.543 total time=   0.0s\n",
            "[CV 3/5] END .model__alpha=1.9000000000000001;, score=-41.441 total time=   0.0s\n",
            "[CV 4/5] END .model__alpha=1.9000000000000001;, score=-10.465 total time=   0.0s\n",
            "[CV 5/5] END .model__alpha=1.9000000000000001;, score=-36.003 total time=   0.0s\n",
            "[CV 1/5] END ................model__alpha=2.0;, score=-32.282 total time=   0.0s\n",
            "[CV 2/5] END ................model__alpha=2.0;, score=-26.224 total time=   0.0s\n",
            "[CV 3/5] END ................model__alpha=2.0;, score=-43.081 total time=   0.0s\n",
            "[CV 4/5] END ................model__alpha=2.0;, score=-10.814 total time=   0.0s\n",
            "[CV 5/5] END ................model__alpha=2.0;, score=-36.427 total time=   0.0s\n",
            "[CV 1/5] END ................model__alpha=2.1;, score=-32.665 total time=   0.0s\n",
            "[CV 2/5] END ................model__alpha=2.1;, score=-26.943 total time=   0.0s\n",
            "[CV 3/5] END ................model__alpha=2.1;, score=-44.240 total time=   0.0s\n",
            "[CV 4/5] END ................model__alpha=2.1;, score=-11.191 total time=   0.0s\n",
            "[CV 5/5] END ................model__alpha=2.1;, score=-36.881 total time=   0.0s\n",
            "[CV 1/5] END ................model__alpha=2.2;, score=-33.073 total time=   0.0s\n",
            "[CV 2/5] END ................model__alpha=2.2;, score=-27.702 total time=   0.0s\n",
            "[CV 3/5] END ................model__alpha=2.2;, score=-45.392 total time=   0.0s\n",
            "[CV 4/5] END ................model__alpha=2.2;, score=-11.596 total time=   0.0s\n",
            "[CV 5/5] END ................model__alpha=2.2;, score=-37.365 total time=   0.0s\n",
            "[CV 1/5] END .model__alpha=2.3000000000000003;, score=-33.504 total time=   0.0s\n",
            "[CV 2/5] END .model__alpha=2.3000000000000003;, score=-28.500 total time=   0.0s\n",
            "[CV 3/5] END .model__alpha=2.3000000000000003;, score=-46.571 total time=   0.0s\n",
            "[CV 4/5] END .model__alpha=2.3000000000000003;, score=-12.030 total time=   0.0s\n",
            "[CV 5/5] END .model__alpha=2.3000000000000003;, score=-37.879 total time=   0.0s\n",
            "[CV 1/5] END .model__alpha=2.4000000000000004;, score=-33.958 total time=   0.0s\n",
            "[CV 2/5] END .model__alpha=2.4000000000000004;, score=-29.338 total time=   0.0s\n",
            "[CV 3/5] END .model__alpha=2.4000000000000004;, score=-47.778 total time=   0.0s\n",
            "[CV 4/5] END .model__alpha=2.4000000000000004;, score=-12.491 total time=   0.0s\n",
            "[CV 5/5] END .model__alpha=2.4000000000000004;, score=-38.423 total time=   0.0s\n",
            "[CV 1/5] END .model__alpha=2.5000000000000004;, score=-34.436 total time=   0.0s\n",
            "[CV 2/5] END .model__alpha=2.5000000000000004;, score=-30.215 total time=   0.0s\n",
            "[CV 3/5] END .model__alpha=2.5000000000000004;, score=-49.013 total time=   0.0s\n",
            "[CV 4/5] END .model__alpha=2.5000000000000004;, score=-12.981 total time=   0.0s\n",
            "[CV 5/5] END .model__alpha=2.5000000000000004;, score=-38.997 total time=   0.0s\n",
            "[CV 1/5] END ................model__alpha=2.6;, score=-34.937 total time=   0.0s\n",
            "[CV 2/5] END ................model__alpha=2.6;, score=-31.131 total time=   0.0s\n",
            "[CV 3/5] END ................model__alpha=2.6;, score=-50.275 total time=   0.0s\n",
            "[CV 4/5] END ................model__alpha=2.6;, score=-13.500 total time=   0.0s\n",
            "[CV 5/5] END ................model__alpha=2.6;, score=-39.601 total time=   0.0s\n",
            "[CV 1/5] END ................model__alpha=2.7;, score=-35.370 total time=   0.0s\n",
            "[CV 2/5] END ................model__alpha=2.7;, score=-32.086 total time=   0.0s\n",
            "[CV 3/5] END ................model__alpha=2.7;, score=-51.565 total time=   0.0s\n",
            "[CV 4/5] END ................model__alpha=2.7;, score=-14.046 total time=   0.0s\n",
            "[CV 5/5] END ................model__alpha=2.7;, score=-40.235 total time=   0.0s\n",
            "[CV 1/5] END .model__alpha=2.8000000000000003;, score=-35.723 total time=   0.0s\n",
            "[CV 2/5] END .model__alpha=2.8000000000000003;, score=-33.081 total time=   0.0s\n",
            "[CV 3/5] END .model__alpha=2.8000000000000003;, score=-52.882 total time=   0.0s\n",
            "[CV 4/5] END .model__alpha=2.8000000000000003;, score=-14.621 total time=   0.0s\n",
            "[CV 5/5] END .model__alpha=2.8000000000000003;, score=-40.832 total time=   0.0s\n",
            "[CV 1/5] END .model__alpha=2.9000000000000004;, score=-36.098 total time=   0.0s\n",
            "[CV 2/5] END .model__alpha=2.9000000000000004;, score=-34.056 total time=   0.0s\n",
            "[CV 3/5] END .model__alpha=2.9000000000000004;, score=-54.227 total time=   0.0s\n",
            "[CV 4/5] END .model__alpha=2.9000000000000004;, score=-15.137 total time=   0.0s\n",
            "[CV 5/5] END .model__alpha=2.9000000000000004;, score=-41.348 total time=   0.0s\n",
            "[CV 1/5] END .model__alpha=3.0000000000000004;, score=-36.494 total time=   0.0s\n",
            "[CV 2/5] END .model__alpha=3.0000000000000004;, score=-34.968 total time=   0.0s\n",
            "[CV 3/5] END .model__alpha=3.0000000000000004;, score=-55.600 total time=   0.0s\n",
            "[CV 4/5] END .model__alpha=3.0000000000000004;, score=-15.629 total time=   0.0s\n",
            "[CV 5/5] END .model__alpha=3.0000000000000004;, score=-41.886 total time=   0.0s\n",
            "[CV 1/5] END ................model__alpha=3.1;, score=-36.911 total time=   0.0s\n",
            "[CV 2/5] END ................model__alpha=3.1;, score=-35.908 total time=   0.0s\n",
            "[CV 3/5] END ................model__alpha=3.1;, score=-57.000 total time=   0.0s\n",
            "[CV 4/5] END ................model__alpha=3.1;, score=-16.147 total time=   0.0s\n",
            "[CV 5/5] END ................model__alpha=3.1;, score=-42.446 total time=   0.0s\n",
            "[CV 1/5] END ................model__alpha=3.2;, score=-37.349 total time=   0.0s\n",
            "[CV 2/5] END ................model__alpha=3.2;, score=-36.875 total time=   0.0s\n",
            "[CV 3/5] END ................model__alpha=3.2;, score=-58.427 total time=   0.0s\n",
            "[CV 4/5] END ................model__alpha=3.2;, score=-16.690 total time=   0.0s\n",
            "[CV 5/5] END ................model__alpha=3.2;, score=-43.028 total time=   0.0s\n",
            "[CV 1/5] END .model__alpha=3.3000000000000003;, score=-37.808 total time=   0.0s\n",
            "[CV 2/5] END .model__alpha=3.3000000000000003;, score=-37.869 total time=   0.0s\n",
            "[CV 3/5] END .model__alpha=3.3000000000000003;, score=-59.882 total time=   0.0s\n",
            "[CV 4/5] END .model__alpha=3.3000000000000003;, score=-17.257 total time=   0.0s\n",
            "[CV 5/5] END .model__alpha=3.3000000000000003;, score=-43.633 total time=   0.0s\n",
            "[CV 1/5] END .model__alpha=3.4000000000000004;, score=-38.289 total time=   0.0s\n",
            "[CV 2/5] END .model__alpha=3.4000000000000004;, score=-38.891 total time=   0.0s\n",
            "[CV 3/5] END .model__alpha=3.4000000000000004;, score=-61.365 total time=   0.0s\n",
            "[CV 4/5] END .model__alpha=3.4000000000000004;, score=-17.850 total time=   0.0s\n",
            "[CV 5/5] END .model__alpha=3.4000000000000004;, score=-44.259 total time=   0.0s\n",
            "[CV 1/5] END .model__alpha=3.5000000000000004;, score=-38.791 total time=   0.0s\n",
            "[CV 2/5] END .model__alpha=3.5000000000000004;, score=-39.940 total time=   0.0s\n",
            "[CV 3/5] END .model__alpha=3.5000000000000004;, score=-62.876 total time=   0.0s\n",
            "[CV 4/5] END .model__alpha=3.5000000000000004;, score=-18.468 total time=   0.0s\n",
            "[CV 5/5] END .model__alpha=3.5000000000000004;, score=-44.908 total time=   0.0s\n",
            "[CV 1/5] END ................model__alpha=3.6;, score=-39.314 total time=   0.0s\n",
            "[CV 2/5] END ................model__alpha=3.6;, score=-41.017 total time=   0.0s\n",
            "[CV 3/5] END ................model__alpha=3.6;, score=-64.414 total time=   0.0s\n",
            "[CV 4/5] END ................model__alpha=3.6;, score=-19.110 total time=   0.0s\n",
            "[CV 5/5] END ................model__alpha=3.6;, score=-45.578 total time=   0.0s\n",
            "[CV 1/5] END ................model__alpha=3.7;, score=-39.859 total time=   0.0s\n",
            "[CV 2/5] END ................model__alpha=3.7;, score=-42.122 total time=   0.0s\n",
            "[CV 3/5] END ................model__alpha=3.7;, score=-65.979 total time=   0.0s\n",
            "[CV 4/5] END ................model__alpha=3.7;, score=-19.778 total time=   0.0s\n",
            "[CV 5/5] END ................model__alpha=3.7;, score=-46.271 total time=   0.0s\n",
            "[CV 1/5] END .model__alpha=3.8000000000000003;, score=-40.424 total time=   0.0s\n",
            "[CV 2/5] END .model__alpha=3.8000000000000003;, score=-43.253 total time=   0.0s\n",
            "[CV 3/5] END .model__alpha=3.8000000000000003;, score=-67.573 total time=   0.0s\n",
            "[CV 4/5] END .model__alpha=3.8000000000000003;, score=-20.471 total time=   0.0s\n",
            "[CV 5/5] END .model__alpha=3.8000000000000003;, score=-46.986 total time=   0.0s\n",
            "[CV 1/5] END .model__alpha=3.9000000000000004;, score=-41.011 total time=   0.0s\n",
            "[CV 2/5] END .model__alpha=3.9000000000000004;, score=-44.413 total time=   0.0s\n",
            "[CV 3/5] END .model__alpha=3.9000000000000004;, score=-69.193 total time=   0.0s\n",
            "[CV 4/5] END .model__alpha=3.9000000000000004;, score=-21.189 total time=   0.0s\n",
            "[CV 5/5] END .model__alpha=3.9000000000000004;, score=-47.723 total time=   0.0s\n",
            "[CV 1/5] END ................model__alpha=4.0;, score=-41.619 total time=   0.0s\n",
            "[CV 2/5] END ................model__alpha=4.0;, score=-45.600 total time=   0.0s\n",
            "[CV 3/5] END ................model__alpha=4.0;, score=-70.245 total time=   0.0s\n",
            "[CV 4/5] END ................model__alpha=4.0;, score=-21.932 total time=   0.0s\n",
            "[CV 5/5] END ................model__alpha=4.0;, score=-48.482 total time=   0.0s\n",
            "[CV 1/5] END ................model__alpha=4.1;, score=-42.248 total time=   0.0s\n",
            "[CV 2/5] END ................model__alpha=4.1;, score=-46.814 total time=   0.0s\n",
            "[CV 3/5] END ................model__alpha=4.1;, score=-71.145 total time=   0.0s\n",
            "[CV 4/5] END ................model__alpha=4.1;, score=-22.700 total time=   0.0s\n",
            "[CV 5/5] END ................model__alpha=4.1;, score=-49.263 total time=   0.0s\n",
            "[CV 1/5] END ................model__alpha=4.2;, score=-42.898 total time=   0.0s\n",
            "[CV 2/5] END ................model__alpha=4.2;, score=-48.056 total time=   0.0s\n",
            "[CV 3/5] END ................model__alpha=4.2;, score=-72.059 total time=   0.0s\n",
            "[CV 4/5] END ................model__alpha=4.2;, score=-23.493 total time=   0.0s\n",
            "[CV 5/5] END ................model__alpha=4.2;, score=-50.067 total time=   0.0s\n",
            "[CV 1/5] END ................model__alpha=4.3;, score=-43.570 total time=   0.0s\n",
            "[CV 2/5] END ................model__alpha=4.3;, score=-49.325 total time=   0.0s\n",
            "[CV 3/5] END ................model__alpha=4.3;, score=-72.989 total time=   0.0s\n",
            "[CV 4/5] END ................model__alpha=4.3;, score=-24.311 total time=   0.0s\n",
            "[CV 5/5] END ................model__alpha=4.3;, score=-50.892 total time=   0.0s\n",
            "[CV 1/5] END .model__alpha=4.3999999999999995;, score=-44.263 total time=   0.0s\n",
            "[CV 2/5] END .model__alpha=4.3999999999999995;, score=-50.622 total time=   0.0s\n",
            "[CV 3/5] END .model__alpha=4.3999999999999995;, score=-73.932 total time=   0.0s\n",
            "[CV 4/5] END .model__alpha=4.3999999999999995;, score=-25.154 total time=   0.0s\n",
            "[CV 5/5] END .model__alpha=4.3999999999999995;, score=-51.740 total time=   0.0s\n",
            "[CV 1/5] END ................model__alpha=4.5;, score=-44.977 total time=   0.0s\n",
            "[CV 2/5] END ................model__alpha=4.5;, score=-51.946 total time=   0.0s\n",
            "[CV 3/5] END ................model__alpha=4.5;, score=-74.891 total time=   0.0s\n",
            "[CV 4/5] END ................model__alpha=4.5;, score=-26.022 total time=   0.0s\n",
            "[CV 5/5] END ................model__alpha=4.5;, score=-52.610 total time=   0.0s\n",
            "[CV 1/5] END ................model__alpha=4.6;, score=-45.712 total time=   0.0s\n",
            "[CV 2/5] END ................model__alpha=4.6;, score=-53.298 total time=   0.0s\n",
            "[CV 3/5] END ................model__alpha=4.6;, score=-75.864 total time=   0.0s\n",
            "[CV 4/5] END ................model__alpha=4.6;, score=-26.916 total time=   0.0s\n",
            "[CV 5/5] END ................model__alpha=4.6;, score=-53.502 total time=   0.0s\n",
            "[CV 1/5] END ................model__alpha=4.7;, score=-46.469 total time=   0.0s\n",
            "[CV 2/5] END ................model__alpha=4.7;, score=-54.677 total time=   0.0s\n",
            "[CV 3/5] END ................model__alpha=4.7;, score=-76.851 total time=   0.0s\n",
            "[CV 4/5] END ................model__alpha=4.7;, score=-27.834 total time=   0.0s\n",
            "[CV 5/5] END ................model__alpha=4.7;, score=-54.416 total time=   0.0s\n",
            "[CV 1/5] END ................model__alpha=4.8;, score=-47.246 total time=   0.0s\n",
            "[CV 2/5] END ................model__alpha=4.8;, score=-56.084 total time=   0.0s\n",
            "[CV 3/5] END ................model__alpha=4.8;, score=-77.854 total time=   0.0s\n",
            "[CV 4/5] END ................model__alpha=4.8;, score=-28.777 total time=   0.0s\n",
            "[CV 5/5] END ................model__alpha=4.8;, score=-55.352 total time=   0.0s\n",
            "[CV 1/5] END ................model__alpha=4.9;, score=-48.045 total time=   0.0s\n",
            "[CV 2/5] END ................model__alpha=4.9;, score=-57.518 total time=   0.0s\n",
            "[CV 3/5] END ................model__alpha=4.9;, score=-78.871 total time=   0.0s\n",
            "[CV 4/5] END ................model__alpha=4.9;, score=-29.746 total time=   0.0s\n",
            "[CV 5/5] END ................model__alpha=4.9;, score=-56.310 total time=   0.0s\n",
            "[CV 1/5] END ................model__alpha=5.0;, score=-48.865 total time=   0.0s\n",
            "[CV 2/5] END ................model__alpha=5.0;, score=-58.979 total time=   0.0s\n",
            "[CV 3/5] END ................model__alpha=5.0;, score=-79.902 total time=   0.0s\n",
            "[CV 4/5] END ................model__alpha=5.0;, score=-30.739 total time=   0.0s\n",
            "[CV 5/5] END ................model__alpha=5.0;, score=-57.290 total time=   0.0s\n",
            "[CV 1/5] END ................model__alpha=5.1;, score=-49.707 total time=   0.0s\n",
            "[CV 2/5] END ................model__alpha=5.1;, score=-60.469 total time=   0.0s\n",
            "[CV 3/5] END ................model__alpha=5.1;, score=-80.948 total time=   0.0s\n",
            "[CV 4/5] END ................model__alpha=5.1;, score=-31.757 total time=   0.0s\n",
            "[CV 5/5] END ................model__alpha=5.1;, score=-58.293 total time=   0.0s\n",
            "[CV 1/5] END ................model__alpha=5.2;, score=-50.569 total time=   0.0s\n",
            "[CV 2/5] END ................model__alpha=5.2;, score=-61.985 total time=   0.0s\n",
            "[CV 3/5] END ................model__alpha=5.2;, score=-82.009 total time=   0.0s\n",
            "[CV 4/5] END ................model__alpha=5.2;, score=-32.801 total time=   0.0s\n",
            "[CV 5/5] END ................model__alpha=5.2;, score=-59.317 total time=   0.0s\n",
            "[CV 1/5] END ................model__alpha=5.3;, score=-51.453 total time=   0.0s\n",
            "[CV 2/5] END ................model__alpha=5.3;, score=-63.529 total time=   0.0s\n",
            "[CV 3/5] END ................model__alpha=5.3;, score=-83.084 total time=   0.0s\n",
            "[CV 4/5] END ................model__alpha=5.3;, score=-33.869 total time=   0.0s\n",
            "[CV 5/5] END ................model__alpha=5.3;, score=-60.364 total time=   0.0s\n",
            "[CV 1/5] END ................model__alpha=5.4;, score=-52.358 total time=   0.0s\n",
            "[CV 2/5] END ................model__alpha=5.4;, score=-65.056 total time=   0.0s\n",
            "[CV 3/5] END ................model__alpha=5.4;, score=-84.174 total time=   0.0s\n",
            "[CV 4/5] END ................model__alpha=5.4;, score=-34.963 total time=   0.0s\n",
            "[CV 5/5] END ................model__alpha=5.4;, score=-61.433 total time=   0.0s\n",
            "[CV 1/5] END ................model__alpha=5.5;, score=-53.284 total time=   0.0s\n",
            "[CV 2/5] END ................model__alpha=5.5;, score=-66.259 total time=   0.0s\n",
            "[CV 3/5] END ................model__alpha=5.5;, score=-85.278 total time=   0.0s\n",
            "[CV 4/5] END ................model__alpha=5.5;, score=-36.081 total time=   0.0s\n",
            "[CV 5/5] END ................model__alpha=5.5;, score=-62.523 total time=   0.0s\n",
            "[CV 1/5] END ................model__alpha=5.6;, score=-54.232 total time=   0.0s\n",
            "[CV 2/5] END ................model__alpha=5.6;, score=-67.483 total time=   0.0s\n",
            "[CV 3/5] END ................model__alpha=5.6;, score=-86.397 total time=   0.0s\n",
            "[CV 4/5] END ................model__alpha=5.6;, score=-37.225 total time=   0.0s\n",
            "[CV 5/5] END ................model__alpha=5.6;, score=-63.636 total time=   0.0s\n",
            "[CV 1/5] END ................model__alpha=5.7;, score=-55.200 total time=   0.0s\n",
            "[CV 2/5] END ................model__alpha=5.7;, score=-68.728 total time=   0.0s\n",
            "[CV 3/5] END ................model__alpha=5.7;, score=-87.531 total time=   0.0s\n",
            "[CV 4/5] END ................model__alpha=5.7;, score=-38.394 total time=   0.0s\n",
            "[CV 5/5] END ................model__alpha=5.7;, score=-64.772 total time=   0.0s\n",
            "[CV 1/5] END ................model__alpha=5.8;, score=-56.190 total time=   0.0s\n",
            "[CV 2/5] END ................model__alpha=5.8;, score=-69.993 total time=   0.0s\n",
            "[CV 3/5] END ................model__alpha=5.8;, score=-88.679 total time=   0.0s\n",
            "[CV 4/5] END ................model__alpha=5.8;, score=-39.406 total time=   0.0s\n",
            "[CV 5/5] END ................model__alpha=5.8;, score=-65.929 total time=   0.0s\n",
            "[CV 1/5] END ................model__alpha=5.9;, score=-57.157 total time=   0.0s\n",
            "[CV 2/5] END ................model__alpha=5.9;, score=-71.279 total time=   0.0s\n",
            "[CV 3/5] END ................model__alpha=5.9;, score=-89.842 total time=   0.0s\n",
            "[CV 4/5] END ................model__alpha=5.9;, score=-40.138 total time=   0.0s\n",
            "[CV 5/5] END ................model__alpha=5.9;, score=-67.108 total time=   0.0s\n",
            "[CV 1/5] END ................model__alpha=6.0;, score=-57.840 total time=   0.0s\n",
            "[CV 2/5] END ................model__alpha=6.0;, score=-72.585 total time=   0.0s\n",
            "[CV 3/5] END ................model__alpha=6.0;, score=-91.019 total time=   0.0s\n",
            "[CV 4/5] END ................model__alpha=6.0;, score=-40.884 total time=   0.0s\n",
            "[CV 5/5] END ................model__alpha=6.0;, score=-68.310 total time=   0.0s\n",
            "[CV 1/5] END ................model__alpha=6.1;, score=-58.542 total time=   0.0s\n",
            "[CV 2/5] END ................model__alpha=6.1;, score=-73.911 total time=   0.0s\n",
            "[CV 3/5] END ................model__alpha=6.1;, score=-92.212 total time=   0.0s\n",
            "[CV 4/5] END ................model__alpha=6.1;, score=-41.644 total time=   0.0s\n",
            "[CV 5/5] END ................model__alpha=6.1;, score=-69.533 total time=   0.0s\n",
            "[CV 1/5] END ................model__alpha=6.2;, score=-59.265 total time=   0.0s\n",
            "[CV 2/5] END ................model__alpha=6.2;, score=-73.935 total time=   0.0s\n",
            "[CV 3/5] END ................model__alpha=6.2;, score=-93.285 total time=   0.0s\n",
            "[CV 4/5] END ................model__alpha=6.2;, score=-42.418 total time=   0.0s\n",
            "[CV 5/5] END ................model__alpha=6.2;, score=-70.779 total time=   0.0s\n",
            "[CV 1/5] END ................model__alpha=6.3;, score=-60.007 total time=   0.0s\n",
            "[CV 2/5] END ................model__alpha=6.3;, score=-73.935 total time=   0.0s\n",
            "[CV 3/5] END ................model__alpha=6.3;, score=-93.285 total time=   0.0s\n",
            "[CV 4/5] END ................model__alpha=6.3;, score=-43.206 total time=   0.0s\n",
            "[CV 5/5] END ................model__alpha=6.3;, score=-71.969 total time=   0.1s\n",
            "[CV 1/5] END ................model__alpha=6.4;, score=-60.768 total time=   0.0s\n",
            "[CV 2/5] END ................model__alpha=6.4;, score=-73.935 total time=   0.0s\n",
            "[CV 3/5] END ................model__alpha=6.4;, score=-93.285 total time=   0.0s\n",
            "[CV 4/5] END ................model__alpha=6.4;, score=-44.009 total time=   0.0s\n",
            "[CV 5/5] END ................model__alpha=6.4;, score=-72.907 total time=   0.0s\n",
            "[CV 1/5] END ................model__alpha=6.5;, score=-61.549 total time=   0.0s\n",
            "[CV 2/5] END ................model__alpha=6.5;, score=-73.935 total time=   0.0s\n",
            "[CV 3/5] END ................model__alpha=6.5;, score=-93.285 total time=   0.0s\n",
            "[CV 4/5] END ................model__alpha=6.5;, score=-44.825 total time=   0.0s\n",
            "[CV 5/5] END ................model__alpha=6.5;, score=-72.913 total time=   0.0s\n",
            "[CV 1/5] END ................model__alpha=6.6;, score=-62.350 total time=   0.0s\n",
            "[CV 2/5] END ................model__alpha=6.6;, score=-73.935 total time=   0.0s\n",
            "[CV 3/5] END ................model__alpha=6.6;, score=-93.285 total time=   0.0s\n",
            "[CV 4/5] END ................model__alpha=6.6;, score=-45.288 total time=   0.0s\n",
            "[CV 5/5] END ................model__alpha=6.6;, score=-72.913 total time=   0.0s\n",
            "[CV 1/5] END ................model__alpha=6.7;, score=-62.573 total time=   0.0s\n",
            "[CV 2/5] END ................model__alpha=6.7;, score=-73.935 total time=   0.0s\n",
            "[CV 3/5] END ................model__alpha=6.7;, score=-93.285 total time=   0.0s\n",
            "[CV 4/5] END ................model__alpha=6.7;, score=-45.288 total time=   0.0s\n",
            "[CV 5/5] END ................model__alpha=6.7;, score=-72.913 total time=   0.0s\n",
            "[CV 1/5] END ................model__alpha=6.8;, score=-62.573 total time=   0.0s\n",
            "[CV 2/5] END ................model__alpha=6.8;, score=-73.935 total time=   0.0s\n",
            "[CV 3/5] END ................model__alpha=6.8;, score=-93.285 total time=   0.0s\n",
            "[CV 4/5] END ................model__alpha=6.8;, score=-45.288 total time=   0.0s\n",
            "[CV 5/5] END ................model__alpha=6.8;, score=-72.913 total time=   0.0s\n",
            "[CV 1/5] END ................model__alpha=6.9;, score=-62.573 total time=   0.0s\n",
            "[CV 2/5] END ................model__alpha=6.9;, score=-73.935 total time=   0.0s\n",
            "[CV 3/5] END ................model__alpha=6.9;, score=-93.285 total time=   0.0s\n",
            "[CV 4/5] END ................model__alpha=6.9;, score=-45.288 total time=   0.0s\n",
            "[CV 5/5] END ................model__alpha=6.9;, score=-72.913 total time=   0.0s\n",
            "[CV 1/5] END ................model__alpha=7.0;, score=-62.573 total time=   0.0s\n",
            "[CV 2/5] END ................model__alpha=7.0;, score=-73.935 total time=   0.0s\n",
            "[CV 3/5] END ................model__alpha=7.0;, score=-93.285 total time=   0.0s\n",
            "[CV 4/5] END ................model__alpha=7.0;, score=-45.288 total time=   0.0s\n",
            "[CV 5/5] END ................model__alpha=7.0;, score=-72.913 total time=   0.0s\n",
            "[CV 1/5] END ................model__alpha=7.1;, score=-62.573 total time=   0.0s\n",
            "[CV 2/5] END ................model__alpha=7.1;, score=-73.935 total time=   0.0s\n",
            "[CV 3/5] END ................model__alpha=7.1;, score=-93.285 total time=   0.0s\n",
            "[CV 4/5] END ................model__alpha=7.1;, score=-45.288 total time=   0.0s\n",
            "[CV 5/5] END ................model__alpha=7.1;, score=-72.913 total time=   0.0s\n",
            "[CV 1/5] END ................model__alpha=7.2;, score=-62.573 total time=   0.0s\n",
            "[CV 2/5] END ................model__alpha=7.2;, score=-73.935 total time=   0.0s\n",
            "[CV 3/5] END ................model__alpha=7.2;, score=-93.285 total time=   0.0s\n",
            "[CV 4/5] END ................model__alpha=7.2;, score=-45.288 total time=   0.0s\n",
            "[CV 5/5] END ................model__alpha=7.2;, score=-72.913 total time=   0.0s\n",
            "[CV 1/5] END ................model__alpha=7.3;, score=-62.573 total time=   0.0s\n",
            "[CV 2/5] END ................model__alpha=7.3;, score=-73.935 total time=   0.0s\n",
            "[CV 3/5] END ................model__alpha=7.3;, score=-93.285 total time=   0.0s\n",
            "[CV 4/5] END ................model__alpha=7.3;, score=-45.288 total time=   0.0s\n",
            "[CV 5/5] END ................model__alpha=7.3;, score=-72.913 total time=   0.0s\n",
            "[CV 1/5] END ................model__alpha=7.4;, score=-62.573 total time=   0.0s\n",
            "[CV 2/5] END ................model__alpha=7.4;, score=-73.935 total time=   0.0s\n",
            "[CV 3/5] END ................model__alpha=7.4;, score=-93.285 total time=   0.0s\n",
            "[CV 4/5] END ................model__alpha=7.4;, score=-45.288 total time=   0.0s\n",
            "[CV 5/5] END ................model__alpha=7.4;, score=-72.913 total time=   0.0s\n",
            "[CV 1/5] END ................model__alpha=7.5;, score=-62.573 total time=   0.0s\n",
            "[CV 2/5] END ................model__alpha=7.5;, score=-73.935 total time=   0.0s\n",
            "[CV 3/5] END ................model__alpha=7.5;, score=-93.285 total time=   0.0s\n",
            "[CV 4/5] END ................model__alpha=7.5;, score=-45.288 total time=   0.0s\n",
            "[CV 5/5] END ................model__alpha=7.5;, score=-72.913 total time=   0.0s\n",
            "[CV 1/5] END ................model__alpha=7.6;, score=-62.573 total time=   0.0s\n",
            "[CV 2/5] END ................model__alpha=7.6;, score=-73.935 total time=   0.0s\n",
            "[CV 3/5] END ................model__alpha=7.6;, score=-93.285 total time=   0.0s\n",
            "[CV 4/5] END ................model__alpha=7.6;, score=-45.288 total time=   0.0s\n",
            "[CV 5/5] END ................model__alpha=7.6;, score=-72.913 total time=   0.0s\n",
            "[CV 1/5] END ................model__alpha=7.7;, score=-62.573 total time=   0.0s\n",
            "[CV 2/5] END ................model__alpha=7.7;, score=-73.935 total time=   0.0s\n",
            "[CV 3/5] END ................model__alpha=7.7;, score=-93.285 total time=   0.0s\n",
            "[CV 4/5] END ................model__alpha=7.7;, score=-45.288 total time=   0.0s\n",
            "[CV 5/5] END ................model__alpha=7.7;, score=-72.913 total time=   0.0s\n",
            "[CV 1/5] END ................model__alpha=7.8;, score=-62.573 total time=   0.0s\n",
            "[CV 2/5] END ................model__alpha=7.8;, score=-73.935 total time=   0.0s\n",
            "[CV 3/5] END ................model__alpha=7.8;, score=-93.285 total time=   0.0s\n",
            "[CV 4/5] END ................model__alpha=7.8;, score=-45.288 total time=   0.0s\n",
            "[CV 5/5] END ................model__alpha=7.8;, score=-72.913 total time=   0.0s\n",
            "[CV 1/5] END ................model__alpha=7.9;, score=-62.573 total time=   0.0s\n",
            "[CV 2/5] END ................model__alpha=7.9;, score=-73.935 total time=   0.0s\n",
            "[CV 3/5] END ................model__alpha=7.9;, score=-93.285 total time=   0.0s\n",
            "[CV 4/5] END ................model__alpha=7.9;, score=-45.288 total time=   0.0s\n",
            "[CV 5/5] END ................model__alpha=7.9;, score=-72.913 total time=   0.0s\n",
            "[CV 1/5] END ................model__alpha=8.0;, score=-62.573 total time=   0.0s\n",
            "[CV 2/5] END ................model__alpha=8.0;, score=-73.935 total time=   0.0s\n",
            "[CV 3/5] END ................model__alpha=8.0;, score=-93.285 total time=   0.0s\n",
            "[CV 4/5] END ................model__alpha=8.0;, score=-45.288 total time=   0.0s\n",
            "[CV 5/5] END ................model__alpha=8.0;, score=-72.913 total time=   0.0s\n",
            "[CV 1/5] END ................model__alpha=8.1;, score=-62.573 total time=   0.0s\n",
            "[CV 2/5] END ................model__alpha=8.1;, score=-73.935 total time=   0.0s\n",
            "[CV 3/5] END ................model__alpha=8.1;, score=-93.285 total time=   0.0s\n",
            "[CV 4/5] END ................model__alpha=8.1;, score=-45.288 total time=   0.0s\n",
            "[CV 5/5] END ................model__alpha=8.1;, score=-72.913 total time=   0.0s\n",
            "[CV 1/5] END ................model__alpha=8.2;, score=-62.573 total time=   0.0s\n",
            "[CV 2/5] END ................model__alpha=8.2;, score=-73.935 total time=   0.0s\n",
            "[CV 3/5] END ................model__alpha=8.2;, score=-93.285 total time=   0.0s\n",
            "[CV 4/5] END ................model__alpha=8.2;, score=-45.288 total time=   0.0s\n",
            "[CV 5/5] END ................model__alpha=8.2;, score=-72.913 total time=   0.0s\n",
            "[CV 1/5] END ................model__alpha=8.3;, score=-62.573 total time=   0.0s\n",
            "[CV 2/5] END ................model__alpha=8.3;, score=-73.935 total time=   0.0s\n",
            "[CV 3/5] END ................model__alpha=8.3;, score=-93.285 total time=   0.0s\n",
            "[CV 4/5] END ................model__alpha=8.3;, score=-45.288 total time=   0.0s\n",
            "[CV 5/5] END ................model__alpha=8.3;, score=-72.913 total time=   0.0s\n",
            "[CV 1/5] END ................model__alpha=8.4;, score=-62.573 total time=   0.0s\n",
            "[CV 2/5] END ................model__alpha=8.4;, score=-73.935 total time=   0.0s\n",
            "[CV 3/5] END ................model__alpha=8.4;, score=-93.285 total time=   0.0s\n",
            "[CV 4/5] END ................model__alpha=8.4;, score=-45.288 total time=   0.0s\n",
            "[CV 5/5] END ................model__alpha=8.4;, score=-72.913 total time=   0.0s\n",
            "[CV 1/5] END ................model__alpha=8.5;, score=-62.573 total time=   0.0s\n",
            "[CV 2/5] END ................model__alpha=8.5;, score=-73.935 total time=   0.0s\n",
            "[CV 3/5] END ................model__alpha=8.5;, score=-93.285 total time=   0.0s\n",
            "[CV 4/5] END ................model__alpha=8.5;, score=-45.288 total time=   0.0s\n",
            "[CV 5/5] END ................model__alpha=8.5;, score=-72.913 total time=   0.0s\n",
            "[CV 1/5] END ................model__alpha=8.6;, score=-62.573 total time=   0.0s\n",
            "[CV 2/5] END ................model__alpha=8.6;, score=-73.935 total time=   0.0s\n",
            "[CV 3/5] END ................model__alpha=8.6;, score=-93.285 total time=   0.0s\n",
            "[CV 4/5] END ................model__alpha=8.6;, score=-45.288 total time=   0.0s\n",
            "[CV 5/5] END ................model__alpha=8.6;, score=-72.913 total time=   0.0s\n",
            "[CV 1/5] END ................model__alpha=8.7;, score=-62.573 total time=   0.0s\n",
            "[CV 2/5] END ................model__alpha=8.7;, score=-73.935 total time=   0.0s\n",
            "[CV 3/5] END ................model__alpha=8.7;, score=-93.285 total time=   0.0s\n",
            "[CV 4/5] END ................model__alpha=8.7;, score=-45.288 total time=   0.0s\n",
            "[CV 5/5] END ................model__alpha=8.7;, score=-72.913 total time=   0.0s\n",
            "[CV 1/5] END ................model__alpha=8.8;, score=-62.573 total time=   0.0s\n",
            "[CV 2/5] END ................model__alpha=8.8;, score=-73.935 total time=   0.0s\n",
            "[CV 3/5] END ................model__alpha=8.8;, score=-93.285 total time=   0.0s\n",
            "[CV 4/5] END ................model__alpha=8.8;, score=-45.288 total time=   0.0s\n",
            "[CV 5/5] END ................model__alpha=8.8;, score=-72.913 total time=   0.0s\n",
            "[CV 1/5] END ................model__alpha=8.9;, score=-62.573 total time=   0.0s\n",
            "[CV 2/5] END ................model__alpha=8.9;, score=-73.935 total time=   0.0s\n",
            "[CV 3/5] END ................model__alpha=8.9;, score=-93.285 total time=   0.0s\n",
            "[CV 4/5] END ................model__alpha=8.9;, score=-45.288 total time=   0.0s\n",
            "[CV 5/5] END ................model__alpha=8.9;, score=-72.913 total time=   0.0s\n",
            "[CV 1/5] END ................model__alpha=9.0;, score=-62.573 total time=   0.0s\n",
            "[CV 2/5] END ................model__alpha=9.0;, score=-73.935 total time=   0.0s\n",
            "[CV 3/5] END ................model__alpha=9.0;, score=-93.285 total time=   0.0s\n",
            "[CV 4/5] END ................model__alpha=9.0;, score=-45.288 total time=   0.0s\n",
            "[CV 5/5] END ................model__alpha=9.0;, score=-72.913 total time=   0.0s\n",
            "[CV 1/5] END ................model__alpha=9.1;, score=-62.573 total time=   0.0s\n",
            "[CV 2/5] END ................model__alpha=9.1;, score=-73.935 total time=   0.0s\n",
            "[CV 3/5] END ................model__alpha=9.1;, score=-93.285 total time=   0.0s\n",
            "[CV 4/5] END ................model__alpha=9.1;, score=-45.288 total time=   0.0s\n",
            "[CV 5/5] END ................model__alpha=9.1;, score=-72.913 total time=   0.0s\n",
            "[CV 1/5] END ................model__alpha=9.2;, score=-62.573 total time=   0.0s\n",
            "[CV 2/5] END ................model__alpha=9.2;, score=-73.935 total time=   0.0s\n",
            "[CV 3/5] END ................model__alpha=9.2;, score=-93.285 total time=   0.0s\n",
            "[CV 4/5] END ................model__alpha=9.2;, score=-45.288 total time=   0.0s\n",
            "[CV 5/5] END ................model__alpha=9.2;, score=-72.913 total time=   0.0s\n",
            "[CV 1/5] END ................model__alpha=9.3;, score=-62.573 total time=   0.0s\n",
            "[CV 2/5] END ................model__alpha=9.3;, score=-73.935 total time=   0.0s\n",
            "[CV 3/5] END ................model__alpha=9.3;, score=-93.285 total time=   0.0s\n",
            "[CV 4/5] END ................model__alpha=9.3;, score=-45.288 total time=   0.0s\n",
            "[CV 5/5] END ................model__alpha=9.3;, score=-72.913 total time=   0.0s\n",
            "[CV 1/5] END ................model__alpha=9.4;, score=-62.573 total time=   0.1s\n",
            "[CV 2/5] END ................model__alpha=9.4;, score=-73.935 total time=   0.0s\n",
            "[CV 3/5] END ................model__alpha=9.4;, score=-93.285 total time=   0.0s\n",
            "[CV 4/5] END ................model__alpha=9.4;, score=-45.288 total time=   0.0s\n",
            "[CV 5/5] END ................model__alpha=9.4;, score=-72.913 total time=   0.0s\n",
            "[CV 1/5] END ................model__alpha=9.5;, score=-62.573 total time=   0.0s\n",
            "[CV 2/5] END ................model__alpha=9.5;, score=-73.935 total time=   0.0s\n",
            "[CV 3/5] END ................model__alpha=9.5;, score=-93.285 total time=   0.0s\n",
            "[CV 4/5] END ................model__alpha=9.5;, score=-45.288 total time=   0.0s\n",
            "[CV 5/5] END ................model__alpha=9.5;, score=-72.913 total time=   0.0s\n",
            "[CV 1/5] END ................model__alpha=9.6;, score=-62.573 total time=   0.0s\n",
            "[CV 2/5] END ................model__alpha=9.6;, score=-73.935 total time=   0.0s\n",
            "[CV 3/5] END ................model__alpha=9.6;, score=-93.285 total time=   0.0s\n",
            "[CV 4/5] END ................model__alpha=9.6;, score=-45.288 total time=   0.0s\n",
            "[CV 5/5] END ................model__alpha=9.6;, score=-72.913 total time=   0.0s\n",
            "[CV 1/5] END ..model__alpha=9.700000000000001;, score=-62.573 total time=   0.0s\n",
            "[CV 2/5] END ..model__alpha=9.700000000000001;, score=-73.935 total time=   0.0s\n",
            "[CV 3/5] END ..model__alpha=9.700000000000001;, score=-93.285 total time=   0.0s\n",
            "[CV 4/5] END ..model__alpha=9.700000000000001;, score=-45.288 total time=   0.0s\n",
            "[CV 5/5] END ..model__alpha=9.700000000000001;, score=-72.913 total time=   0.0s\n",
            "[CV 1/5] END ................model__alpha=9.8;, score=-62.573 total time=   0.0s\n",
            "[CV 2/5] END ................model__alpha=9.8;, score=-73.935 total time=   0.0s\n",
            "[CV 3/5] END ................model__alpha=9.8;, score=-93.285 total time=   0.0s\n",
            "[CV 4/5] END ................model__alpha=9.8;, score=-45.288 total time=   0.0s\n",
            "[CV 5/5] END ................model__alpha=9.8;, score=-72.913 total time=   0.0s\n",
            "[CV 1/5] END ................model__alpha=9.9;, score=-62.573 total time=   0.0s\n",
            "[CV 2/5] END ................model__alpha=9.9;, score=-73.935 total time=   0.0s\n",
            "[CV 3/5] END ................model__alpha=9.9;, score=-93.285 total time=   0.0s\n",
            "[CV 4/5] END ................model__alpha=9.9;, score=-45.288 total time=   0.0s\n",
            "[CV 5/5] END ................model__alpha=9.9;, score=-72.913 total time=   0.0s\n"
          ]
        },
        {
          "output_type": "execute_result",
          "data": {
            "text/plain": [
              "GridSearchCV(cv=5, estimator=Pipeline(steps=[('model', Lasso())]),\n",
              "             param_grid={'model__alpha': array([0.1, 0.2, 0.3, 0.4, 0.5, 0.6, 0.7, 0.8, 0.9, 1. , 1.1, 1.2, 1.3,\n",
              "       1.4, 1.5, 1.6, 1.7, 1.8, 1.9, 2. , 2.1, 2.2, 2.3, 2.4, 2.5, 2.6,\n",
              "       2.7, 2.8, 2.9, 3. , 3.1, 3.2, 3.3, 3.4, 3.5, 3.6, 3.7, 3.8, 3.9,\n",
              "       4. , 4.1, 4.2, 4.3, 4.4, 4.5, 4.6, 4.7, 4.8, 4.9, 5. , 5.1, 5.2,\n",
              "       5.3, 5.4, 5.5, 5.6, 5.7, 5.8, 5.9, 6. , 6.1, 6.2, 6.3, 6.4, 6.5,\n",
              "       6.6, 6.7, 6.8, 6.9, 7. , 7.1, 7.2, 7.3, 7.4, 7.5, 7.6, 7.7, 7.8,\n",
              "       7.9, 8. , 8.1, 8.2, 8.3, 8.4, 8.5, 8.6, 8.7, 8.8, 8.9, 9. , 9.1,\n",
              "       9.2, 9.3, 9.4, 9.5, 9.6, 9.7, 9.8, 9.9])},\n",
              "             scoring='neg_mean_squared_error', verbose=3)"
            ],
            "text/html": [
              "<style>#sk-container-id-1 {color: black;background-color: white;}#sk-container-id-1 pre{padding: 0;}#sk-container-id-1 div.sk-toggleable {background-color: white;}#sk-container-id-1 label.sk-toggleable__label {cursor: pointer;display: block;width: 100%;margin-bottom: 0;padding: 0.3em;box-sizing: border-box;text-align: center;}#sk-container-id-1 label.sk-toggleable__label-arrow:before {content: \"▸\";float: left;margin-right: 0.25em;color: #696969;}#sk-container-id-1 label.sk-toggleable__label-arrow:hover:before {color: black;}#sk-container-id-1 div.sk-estimator:hover label.sk-toggleable__label-arrow:before {color: black;}#sk-container-id-1 div.sk-toggleable__content {max-height: 0;max-width: 0;overflow: hidden;text-align: left;background-color: #f0f8ff;}#sk-container-id-1 div.sk-toggleable__content pre {margin: 0.2em;color: black;border-radius: 0.25em;background-color: #f0f8ff;}#sk-container-id-1 input.sk-toggleable__control:checked~div.sk-toggleable__content {max-height: 200px;max-width: 100%;overflow: auto;}#sk-container-id-1 input.sk-toggleable__control:checked~label.sk-toggleable__label-arrow:before {content: \"▾\";}#sk-container-id-1 div.sk-estimator input.sk-toggleable__control:checked~label.sk-toggleable__label {background-color: #d4ebff;}#sk-container-id-1 div.sk-label input.sk-toggleable__control:checked~label.sk-toggleable__label {background-color: #d4ebff;}#sk-container-id-1 input.sk-hidden--visually {border: 0;clip: rect(1px 1px 1px 1px);clip: rect(1px, 1px, 1px, 1px);height: 1px;margin: -1px;overflow: hidden;padding: 0;position: absolute;width: 1px;}#sk-container-id-1 div.sk-estimator {font-family: monospace;background-color: #f0f8ff;border: 1px dotted black;border-radius: 0.25em;box-sizing: border-box;margin-bottom: 0.5em;}#sk-container-id-1 div.sk-estimator:hover {background-color: #d4ebff;}#sk-container-id-1 div.sk-parallel-item::after {content: \"\";width: 100%;border-bottom: 1px solid gray;flex-grow: 1;}#sk-container-id-1 div.sk-label:hover label.sk-toggleable__label {background-color: #d4ebff;}#sk-container-id-1 div.sk-serial::before {content: \"\";position: absolute;border-left: 1px solid gray;box-sizing: border-box;top: 0;bottom: 0;left: 50%;z-index: 0;}#sk-container-id-1 div.sk-serial {display: flex;flex-direction: column;align-items: center;background-color: white;padding-right: 0.2em;padding-left: 0.2em;position: relative;}#sk-container-id-1 div.sk-item {position: relative;z-index: 1;}#sk-container-id-1 div.sk-parallel {display: flex;align-items: stretch;justify-content: center;background-color: white;position: relative;}#sk-container-id-1 div.sk-item::before, #sk-container-id-1 div.sk-parallel-item::before {content: \"\";position: absolute;border-left: 1px solid gray;box-sizing: border-box;top: 0;bottom: 0;left: 50%;z-index: -1;}#sk-container-id-1 div.sk-parallel-item {display: flex;flex-direction: column;z-index: 1;position: relative;background-color: white;}#sk-container-id-1 div.sk-parallel-item:first-child::after {align-self: flex-end;width: 50%;}#sk-container-id-1 div.sk-parallel-item:last-child::after {align-self: flex-start;width: 50%;}#sk-container-id-1 div.sk-parallel-item:only-child::after {width: 0;}#sk-container-id-1 div.sk-dashed-wrapped {border: 1px dashed gray;margin: 0 0.4em 0.5em 0.4em;box-sizing: border-box;padding-bottom: 0.4em;background-color: white;}#sk-container-id-1 div.sk-label label {font-family: monospace;font-weight: bold;display: inline-block;line-height: 1.2em;}#sk-container-id-1 div.sk-label-container {text-align: center;}#sk-container-id-1 div.sk-container {/* jupyter's `normalize.less` sets `[hidden] { display: none; }` but bootstrap.min.css set `[hidden] { display: none !important; }` so we also need the `!important` here to be able to override the default hidden behavior on the sphinx rendered scikit-learn.org. See: https://github.com/scikit-learn/scikit-learn/issues/21755 */display: inline-block !important;position: relative;}#sk-container-id-1 div.sk-text-repr-fallback {display: none;}</style><div id=\"sk-container-id-1\" class=\"sk-top-container\"><div class=\"sk-text-repr-fallback\"><pre>GridSearchCV(cv=5, estimator=Pipeline(steps=[(&#x27;model&#x27;, Lasso())]),\n",
              "             param_grid={&#x27;model__alpha&#x27;: array([0.1, 0.2, 0.3, 0.4, 0.5, 0.6, 0.7, 0.8, 0.9, 1. , 1.1, 1.2, 1.3,\n",
              "       1.4, 1.5, 1.6, 1.7, 1.8, 1.9, 2. , 2.1, 2.2, 2.3, 2.4, 2.5, 2.6,\n",
              "       2.7, 2.8, 2.9, 3. , 3.1, 3.2, 3.3, 3.4, 3.5, 3.6, 3.7, 3.8, 3.9,\n",
              "       4. , 4.1, 4.2, 4.3, 4.4, 4.5, 4.6, 4.7, 4.8, 4.9, 5. , 5.1, 5.2,\n",
              "       5.3, 5.4, 5.5, 5.6, 5.7, 5.8, 5.9, 6. , 6.1, 6.2, 6.3, 6.4, 6.5,\n",
              "       6.6, 6.7, 6.8, 6.9, 7. , 7.1, 7.2, 7.3, 7.4, 7.5, 7.6, 7.7, 7.8,\n",
              "       7.9, 8. , 8.1, 8.2, 8.3, 8.4, 8.5, 8.6, 8.7, 8.8, 8.9, 9. , 9.1,\n",
              "       9.2, 9.3, 9.4, 9.5, 9.6, 9.7, 9.8, 9.9])},\n",
              "             scoring=&#x27;neg_mean_squared_error&#x27;, verbose=3)</pre><b>In a Jupyter environment, please rerun this cell to show the HTML representation or trust the notebook. <br />On GitHub, the HTML representation is unable to render, please try loading this page with nbviewer.org.</b></div><div class=\"sk-container\" hidden><div class=\"sk-item sk-dashed-wrapped\"><div class=\"sk-label-container\"><div class=\"sk-label sk-toggleable\"><input class=\"sk-toggleable__control sk-hidden--visually\" id=\"sk-estimator-id-1\" type=\"checkbox\" ><label for=\"sk-estimator-id-1\" class=\"sk-toggleable__label sk-toggleable__label-arrow\">GridSearchCV</label><div class=\"sk-toggleable__content\"><pre>GridSearchCV(cv=5, estimator=Pipeline(steps=[(&#x27;model&#x27;, Lasso())]),\n",
              "             param_grid={&#x27;model__alpha&#x27;: array([0.1, 0.2, 0.3, 0.4, 0.5, 0.6, 0.7, 0.8, 0.9, 1. , 1.1, 1.2, 1.3,\n",
              "       1.4, 1.5, 1.6, 1.7, 1.8, 1.9, 2. , 2.1, 2.2, 2.3, 2.4, 2.5, 2.6,\n",
              "       2.7, 2.8, 2.9, 3. , 3.1, 3.2, 3.3, 3.4, 3.5, 3.6, 3.7, 3.8, 3.9,\n",
              "       4. , 4.1, 4.2, 4.3, 4.4, 4.5, 4.6, 4.7, 4.8, 4.9, 5. , 5.1, 5.2,\n",
              "       5.3, 5.4, 5.5, 5.6, 5.7, 5.8, 5.9, 6. , 6.1, 6.2, 6.3, 6.4, 6.5,\n",
              "       6.6, 6.7, 6.8, 6.9, 7. , 7.1, 7.2, 7.3, 7.4, 7.5, 7.6, 7.7, 7.8,\n",
              "       7.9, 8. , 8.1, 8.2, 8.3, 8.4, 8.5, 8.6, 8.7, 8.8, 8.9, 9. , 9.1,\n",
              "       9.2, 9.3, 9.4, 9.5, 9.6, 9.7, 9.8, 9.9])},\n",
              "             scoring=&#x27;neg_mean_squared_error&#x27;, verbose=3)</pre></div></div></div><div class=\"sk-parallel\"><div class=\"sk-parallel-item\"><div class=\"sk-item\"><div class=\"sk-label-container\"><div class=\"sk-label sk-toggleable\"><input class=\"sk-toggleable__control sk-hidden--visually\" id=\"sk-estimator-id-2\" type=\"checkbox\" ><label for=\"sk-estimator-id-2\" class=\"sk-toggleable__label sk-toggleable__label-arrow\">estimator: Pipeline</label><div class=\"sk-toggleable__content\"><pre>Pipeline(steps=[(&#x27;model&#x27;, Lasso())])</pre></div></div></div><div class=\"sk-serial\"><div class=\"sk-item\"><div class=\"sk-serial\"><div class=\"sk-item\"><div class=\"sk-estimator sk-toggleable\"><input class=\"sk-toggleable__control sk-hidden--visually\" id=\"sk-estimator-id-3\" type=\"checkbox\" ><label for=\"sk-estimator-id-3\" class=\"sk-toggleable__label sk-toggleable__label-arrow\">Lasso</label><div class=\"sk-toggleable__content\"><pre>Lasso()</pre></div></div></div></div></div></div></div></div></div></div></div></div>"
            ]
          },
          "metadata": {},
          "execution_count": 27
        }
      ]
    },
    {
      "cell_type": "code",
      "source": [
        "search.best_params_"
      ],
      "metadata": {
        "colab": {
          "base_uri": "https://localhost:8080/"
        },
        "id": "_5bGMjxJPR5y",
        "outputId": "50498a3d-f09d-4d33-e8c5-897eadad5906"
      },
      "execution_count": 28,
      "outputs": [
        {
          "output_type": "execute_result",
          "data": {
            "text/plain": [
              "{'model__alpha': 0.1}"
            ]
          },
          "metadata": {},
          "execution_count": 28
        }
      ]
    },
    {
      "cell_type": "code",
      "source": [
        "coefficients = search.best_estimator_.named_steps['model'].coef_\n",
        "coefficients "
      ],
      "metadata": {
        "colab": {
          "base_uri": "https://localhost:8080/"
        },
        "id": "OD-qLxo2PSei",
        "outputId": "68541855-7569-48cc-998c-aa82fceb4a2b"
      },
      "execution_count": 29,
      "outputs": [
        {
          "output_type": "execute_result",
          "data": {
            "text/plain": [
              "array([-2.20124813e-01, -6.65630229e-04, -6.37747669e-02,  0.00000000e+00,\n",
              "       -7.60703697e-01,  3.12599908e+00, -2.84742691e-01, -1.73977682e+00,\n",
              "        3.89492204e-01, -8.46008903e-01, -1.72617578e+00,  1.21849320e-01,\n",
              "       -3.14594490e+00])"
            ]
          },
          "metadata": {},
          "execution_count": 29
        }
      ]
    },
    {
      "cell_type": "code",
      "source": [
        "importance = np.abs(coefficients)"
      ],
      "metadata": {
        "id": "nBWlwhpdPUS5"
      },
      "execution_count": 30,
      "outputs": []
    },
    {
      "cell_type": "code",
      "source": [
        "importance"
      ],
      "metadata": {
        "colab": {
          "base_uri": "https://localhost:8080/"
        },
        "id": "YTF65AwOPW1s",
        "outputId": "f9bfc8e3-dc38-4bdd-d853-5ef131245418"
      },
      "execution_count": 31,
      "outputs": [
        {
          "output_type": "execute_result",
          "data": {
            "text/plain": [
              "array([2.20124813e-01, 6.65630229e-04, 6.37747669e-02, 0.00000000e+00,\n",
              "       7.60703697e-01, 3.12599908e+00, 2.84742691e-01, 1.73977682e+00,\n",
              "       3.89492204e-01, 8.46008903e-01, 1.72617578e+00, 1.21849320e-01,\n",
              "       3.14594490e+00])"
            ]
          },
          "metadata": {},
          "execution_count": 31
        }
      ]
    },
    {
      "cell_type": "code",
      "source": [
        "label = ['crim', 'zn', 'indus', 'chas', 'nox', 'rm', 'age', 'dis', 'rad', 'tax',\n",
        "       'ptratio', 'b', 'lstat']"
      ],
      "metadata": {
        "id": "Y21bCMSkPZBw"
      },
      "execution_count": 41,
      "outputs": []
    },
    {
      "cell_type": "code",
      "source": [
        "np.array(label)[importance > 0]"
      ],
      "metadata": {
        "colab": {
          "base_uri": "https://localhost:8080/"
        },
        "id": "qRYiAAoZPb_z",
        "outputId": "91edda8e-7b61-4bf1-c8ad-4e1117235cd9"
      },
      "execution_count": 42,
      "outputs": [
        {
          "output_type": "execute_result",
          "data": {
            "text/plain": [
              "array(['crim', 'zn', 'indus', 'nox', 'rm', 'age', 'dis', 'rad', 'tax',\n",
              "       'ptratio', 'b', 'lstat'], dtype='<U7')"
            ]
          },
          "metadata": {},
          "execution_count": 42
        }
      ]
    },
    {
      "cell_type": "code",
      "source": [
        "lasso_df = X[['crim', 'zn', 'indus', 'nox', 'rm', 'age', 'dis', 'rad', 'tax','ptratio', 'b', 'lstat']]"
      ],
      "metadata": {
        "id": "gWiru0-APoQd"
      },
      "execution_count": 43,
      "outputs": []
    },
    {
      "cell_type": "code",
      "source": [
        "lasso_df.shape"
      ],
      "metadata": {
        "colab": {
          "base_uri": "https://localhost:8080/"
        },
        "id": "hNao0-TnTZ7S",
        "outputId": "fecf1244-c468-4d44-99be-aac1f0cdaaea"
      },
      "execution_count": 44,
      "outputs": [
        {
          "output_type": "execute_result",
          "data": {
            "text/plain": [
              "(415, 12)"
            ]
          },
          "metadata": {},
          "execution_count": 44
        }
      ]
    },
    {
      "cell_type": "code",
      "source": [
        "_=plt.plot(range(len(label)),coefficients)\n",
        "_=plt.xticks(range(len(label)),label,rotation=60)\n",
        "_=plt.ylabel(\"Coefficients\")\n",
        "plt.show()"
      ],
      "metadata": {
        "colab": {
          "base_uri": "https://localhost:8080/",
          "height": 289
        },
        "id": "XzdPkTDGQa8t",
        "outputId": "00eda4d2-98ec-48fb-b37d-0533d981d978"
      },
      "execution_count": 51,
      "outputs": [
        {
          "output_type": "display_data",
          "data": {
            "text/plain": [
              "<Figure size 432x288 with 1 Axes>"
            ],
            "image/png": "[encoded data removed]"
          },
          "metadata": {
            "needs_background": "light"
          }
        }
      ]
    },
    {
      "cell_type": "markdown",
      "source": [
        "# Data Modelling"
      ],
      "metadata": {
        "id": "4rANTA1mUeOM"
      }
    },
    {
      "cell_type": "markdown",
      "source": [
        "## LASSO"
      ],
      "metadata": {
        "id": "YaUBRjPOXOvx"
      }
    },
    {
      "cell_type": "markdown",
      "source": [
        "### LazyRegressor"
      ],
      "metadata": {
        "id": "cS9dN8FsUg0J"
      }
    },
    {
      "cell_type": "code",
      "source": [
        "from lazypredict.Supervised import LazyRegressor"
      ],
      "metadata": {
        "id": "4ELR3soFQjZf"
      },
      "execution_count": 46,
      "outputs": []
    },
    {
      "cell_type": "code",
      "source": [
        "reg = LazyRegressor(verbose=0,ignore_warnings=False, custom_metric=None )"
      ],
      "metadata": {
        "id": "vhybHKwFQq8X"
      },
      "execution_count": 47,
      "outputs": []
    },
    {
      "cell_type": "code",
      "source": [
        "lasso_df.shape"
      ],
      "metadata": {
        "colab": {
          "base_uri": "https://localhost:8080/"
        },
        "id": "PEX1L6hbS2nf",
        "outputId": "2f6702e5-3a14-4fb7-cb6b-4e589777e09f"
      },
      "execution_count": 48,
      "outputs": [
        {
          "output_type": "execute_result",
          "data": {
            "text/plain": [
              "(415, 12)"
            ]
          },
          "metadata": {},
          "execution_count": 48
        }
      ]
    },
    {
      "cell_type": "code",
      "source": [
        "xtrain, xtest, ytrain, ytest = train_test_split(lasso_df, labels, test_size=0.2, random_state=75)"
      ],
      "metadata": {
        "id": "xyVJ2W2KQuUW"
      },
      "execution_count": 54,
      "outputs": []
    },
    {
      "cell_type": "code",
      "source": [
        "models , predictions = reg.fit(xtrain, xtest, ytrain, ytest)\n",
        "models"
      ],
      "metadata": {
        "colab": {
          "base_uri": "https://localhost:8080/",
          "height": 1000
        },
        "id": "zN48nxF9UXMX",
        "outputId": "6c746503-84d8-4c8d-c0be-97cd276ee316"
      },
      "execution_count": 55,
      "outputs": [
        {
          "output_type": "stream",
          "name": "stderr",
          "text": [
            "100%|██████████| 42/42 [00:04<00:00,  9.79it/s]\n"
          ]
        },
        {
          "output_type": "execute_result",
          "data": {
            "text/plain": [
              "                               Adjusted R-Squared  R-Squared  RMSE  Time Taken\n",
              "Model                                                                         \n",
              "ExtraTreesRegressor                          0.90       0.91  2.38        0.20\n",
              "GradientBoostingRegressor                    0.89       0.91  2.43        0.23\n",
              "XGBRegressor                                 0.88       0.90  2.57        0.13\n",
              "RandomForestRegressor                        0.88       0.89  2.62        0.33\n",
              "HistGradientBoostingRegressor                0.87       0.89  2.70        0.22\n",
              "BaggingRegressor                             0.85       0.87  2.92        0.05\n",
              "LGBMRegressor                                0.84       0.86  2.97        0.07\n",
              "PoissonRegressor                             0.83       0.85  3.09        0.02\n",
              "KNeighborsRegressor                          0.80       0.83  3.33        0.01\n",
              "AdaBoostRegressor                            0.79       0.82  3.38        0.12\n",
              "SGDRegressor                                 0.75       0.79  3.68        0.01\n",
              "LassoLarsCV                                  0.75       0.79  3.68        0.03\n",
              "LarsCV                                       0.75       0.79  3.68        0.05\n",
              "LassoCV                                      0.75       0.79  3.68        0.07\n",
              "LassoLarsIC                                  0.75       0.79  3.68        0.01\n",
              "ElasticNetCV                                 0.75       0.79  3.68        0.07\n",
              "RidgeCV                                      0.75       0.79  3.69        0.01\n",
              "BayesianRidge                                0.75       0.79  3.69        0.01\n",
              "Ridge                                        0.75       0.79  3.71        0.01\n",
              "TransformedTargetRegressor                   0.75       0.79  3.71        0.01\n",
              "Lars                                         0.75       0.79  3.71        0.02\n",
              "LinearRegression                             0.75       0.79  3.71        0.01\n",
              "OrthogonalMatchingPursuitCV                  0.74       0.78  3.80        0.02\n",
              "HuberRegressor                               0.71       0.75  4.00        0.02\n",
              "DecisionTreeRegressor                        0.69       0.74  4.12        0.01\n",
              "PassiveAggressiveRegressor                   0.69       0.74  4.13        0.02\n",
              "LinearSVR                                    0.69       0.74  4.13        0.01\n",
              "Lasso                                        0.67       0.72  4.25        0.03\n",
              "LassoLars                                    0.67       0.72  4.25        0.01\n",
              "SVR                                          0.64       0.70  4.43        0.02\n",
              "RANSACRegressor                              0.64       0.70  4.43        0.20\n",
              "NuSVR                                        0.62       0.68  4.57        0.03\n",
              "ElasticNet                                   0.62       0.67  4.59        0.01\n",
              "GammaRegressor                               0.61       0.66  4.66        0.02\n",
              "ExtraTreeRegressor                           0.59       0.65  4.74        0.01\n",
              "TweedieRegressor                             0.59       0.65  4.76        0.01\n",
              "MLPRegressor                                 0.50       0.57  5.24        0.48\n",
              "OrthogonalMatchingPursuit                    0.47       0.54  5.42        0.01\n",
              "GaussianProcessRegressor                     0.04       0.18  7.28        0.03\n",
              "DummyRegressor                              -0.21      -0.03  8.16        0.01\n",
              "QuantileRegressor                           -0.28      -0.09  8.39        1.57\n",
              "KernelRidge                                 -8.32      -6.95 22.66        0.02"
            ],
            "text/html": [
              "\n",
              "  <div id=\"df-3ebd6ffc-d5b5-48d6-aa2d-6a880a0a3e4f\">\n",
              "    <div class=\"colab-df-container\">\n",
              "      <div>\n",
              "<style scoped>\n",
              "    .dataframe tbody tr th:only-of-type {\n",
              "        vertical-align: middle;\n",
              "    }\n",
              "\n",
              "    .dataframe tbody tr th {\n",
              "        vertical-align: top;\n",
              "    }\n",
              "\n",
              "    .dataframe thead th {\n",
              "        text-align: right;\n",
              "    }\n",
              "</style>\n",
              "<table border=\"1\" class=\"dataframe\">\n",
              "  <thead>\n",
              "    <tr style=\"text-align: right;\">\n",
              "      <th></th>\n",
              "      <th>Adjusted R-Squared</th>\n",
              "      <th>R-Squared</th>\n",
              "      <th>RMSE</th>\n",
              "      <th>Time Taken</th>\n",
              "    </tr>\n",
              "    <tr>\n",
              "      <th>Model</th>\n",
              "      <th></th>\n",
              "      <th></th>\n",
              "      <th></th>\n",
              "      <th></th>\n",
              "    </tr>\n",
              "  </thead>\n",
              "  <tbody>\n",
              "    <tr>\n",
              "      <th>ExtraTreesRegressor</th>\n",
              "      <td>0.90</td>\n",
              "      <td>0.91</td>\n",
              "      <td>2.38</td>\n",
              "      <td>0.20</td>\n",
              "    </tr>\n",
              "    <tr>\n",
              "      <th>GradientBoostingRegressor</th>\n",
              "      <td>0.89</td>\n",
              "      <td>0.91</td>\n",
              "      <td>2.43</td>\n",
              "      <td>0.23</td>\n",
              "    </tr>\n",
              "    <tr>\n",
              "      <th>XGBRegressor</th>\n",
              "      <td>0.88</td>\n",
              "      <td>0.90</td>\n",
              "      <td>2.57</td>\n",
              "      <td>0.13</td>\n",
              "    </tr>\n",
              "    <tr>\n",
              "      <th>RandomForestRegressor</th>\n",
              "      <td>0.88</td>\n",
              "      <td>0.89</td>\n",
              "      <td>2.62</td>\n",
              "      <td>0.33</td>\n",
              "    </tr>\n",
              "    <tr>\n",
              "      <th>HistGradientBoostingRegressor</th>\n",
              "      <td>0.87</td>\n",
              "      <td>0.89</td>\n",
              "      <td>2.70</td>\n",
              "      <td>0.22</td>\n",
              "    </tr>\n",
              "    <tr>\n",
              "      <th>BaggingRegressor</th>\n",
              "      <td>0.85</td>\n",
              "      <td>0.87</td>\n",
              "      <td>2.92</td>\n",
              "      <td>0.05</td>\n",
              "    </tr>\n",
              "    <tr>\n",
              "      <th>LGBMRegressor</th>\n",
              "      <td>0.84</td>\n",
              "      <td>0.86</td>\n",
              "      <td>2.97</td>\n",
              "      <td>0.07</td>\n",
              "    </tr>\n",
              "    <tr>\n",
              "      <th>PoissonRegressor</th>\n",
              "      <td>0.83</td>\n",
              "      <td>0.85</td>\n",
              "      <td>3.09</td>\n",
              "      <td>0.02</td>\n",
              "    </tr>\n",
              "    <tr>\n",
              "      <th>KNeighborsRegressor</th>\n",
              "      <td>0.80</td>\n",
              "      <td>0.83</td>\n",
              "      <td>3.33</td>\n",
              "      <td>0.01</td>\n",
              "    </tr>\n",
              "    <tr>\n",
              "      <th>AdaBoostRegressor</th>\n",
              "      <td>0.79</td>\n",
              "      <td>0.82</td>\n",
              "      <td>3.38</td>\n",
              "      <td>0.12</td>\n",
              "    </tr>\n",
              "    <tr>\n",
              "      <th>SGDRegressor</th>\n",
              "      <td>0.75</td>\n",
              "      <td>0.79</td>\n",
              "      <td>3.68</td>\n",
              "      <td>0.01</td>\n",
              "    </tr>\n",
              "    <tr>\n",
              "      <th>LassoLarsCV</th>\n",
              "      <td>0.75</td>\n",
              "      <td>0.79</td>\n",
              "      <td>3.68</td>\n",
              "      <td>0.03</td>\n",
              "    </tr>\n",
              "    <tr>\n",
              "      <th>LarsCV</th>\n",
              "      <td>0.75</td>\n",
              "      <td>0.79</td>\n",
              "      <td>3.68</td>\n",
              "      <td>0.05</td>\n",
              "    </tr>\n",
              "    <tr>\n",
              "      <th>LassoCV</th>\n",
              "      <td>0.75</td>\n",
              "      <td>0.79</td>\n",
              "      <td>3.68</td>\n",
              "      <td>0.07</td>\n",
              "    </tr>\n",
              "    <tr>\n",
              "      <th>LassoLarsIC</th>\n",
              "      <td>0.75</td>\n",
              "      <td>0.79</td>\n",
              "      <td>3.68</td>\n",
              "      <td>0.01</td>\n",
              "    </tr>\n",
              "    <tr>\n",
              "      <th>ElasticNetCV</th>\n",
              "      <td>0.75</td>\n",
              "      <td>0.79</td>\n",
              "      <td>3.68</td>\n",
              "      <td>0.07</td>\n",
              "    </tr>\n",
              "    <tr>\n",
              "      <th>RidgeCV</th>\n",
              "      <td>0.75</td>\n",
              "      <td>0.79</td>\n",
              "      <td>3.69</td>\n",
              "      <td>0.01</td>\n",
              "    </tr>\n",
              "    <tr>\n",
              "      <th>BayesianRidge</th>\n",
              "      <td>0.75</td>\n",
              "      <td>0.79</td>\n",
              "      <td>3.69</td>\n",
              "      <td>0.01</td>\n",
              "    </tr>\n",
              "    <tr>\n",
              "      <th>Ridge</th>\n",
              "      <td>0.75</td>\n",
              "      <td>0.79</td>\n",
              "      <td>3.71</td>\n",
              "      <td>0.01</td>\n",
              "    </tr>\n",
              "    <tr>\n",
              "      <th>TransformedTargetRegressor</th>\n",
              "      <td>0.75</td>\n",
              "      <td>0.79</td>\n",
              "      <td>3.71</td>\n",
              "      <td>0.01</td>\n",
              "    </tr>\n",
              "    <tr>\n",
              "      <th>Lars</th>\n",
              "      <td>0.75</td>\n",
              "      <td>0.79</td>\n",
              "      <td>3.71</td>\n",
              "      <td>0.02</td>\n",
              "    </tr>\n",
              "    <tr>\n",
              "      <th>LinearRegression</th>\n",
              "      <td>0.75</td>\n",
              "      <td>0.79</td>\n",
              "      <td>3.71</td>\n",
              "      <td>0.01</td>\n",
              "    </tr>\n",
              "    <tr>\n",
              "      <th>OrthogonalMatchingPursuitCV</th>\n",
              "      <td>0.74</td>\n",
              "      <td>0.78</td>\n",
              "      <td>3.80</td>\n",
              "      <td>0.02</td>\n",
              "    </tr>\n",
              "    <tr>\n",
              "      <th>HuberRegressor</th>\n",
              "      <td>0.71</td>\n",
              "      <td>0.75</td>\n",
              "      <td>4.00</td>\n",
              "      <td>0.02</td>\n",
              "    </tr>\n",
              "    <tr>\n",
              "      <th>DecisionTreeRegressor</th>\n",
              "      <td>0.69</td>\n",
              "      <td>0.74</td>\n",
              "      <td>4.12</td>\n",
              "      <td>0.01</td>\n",
              "    </tr>\n",
              "    <tr>\n",
              "      <th>PassiveAggressiveRegressor</th>\n",
              "      <td>0.69</td>\n",
              "      <td>0.74</td>\n",
              "      <td>4.13</td>\n",
              "      <td>0.02</td>\n",
              "    </tr>\n",
              "    <tr>\n",
              "      <th>LinearSVR</th>\n",
              "      <td>0.69</td>\n",
              "      <td>0.74</td>\n",
              "      <td>4.13</td>\n",
              "      <td>0.01</td>\n",
              "    </tr>\n",
              "    <tr>\n",
              "      <th>Lasso</th>\n",
              "      <td>0.67</td>\n",
              "      <td>0.72</td>\n",
              "      <td>4.25</td>\n",
              "      <td>0.03</td>\n",
              "    </tr>\n",
              "    <tr>\n",
              "      <th>LassoLars</th>\n",
              "      <td>0.67</td>\n",
              "      <td>0.72</td>\n",
              "      <td>4.25</td>\n",
              "      <td>0.01</td>\n",
              "    </tr>\n",
              "    <tr>\n",
              "      <th>SVR</th>\n",
              "      <td>0.64</td>\n",
              "      <td>0.70</td>\n",
              "      <td>4.43</td>\n",
              "      <td>0.02</td>\n",
              "    </tr>\n",
              "    <tr>\n",
              "      <th>RANSACRegressor</th>\n",
              "      <td>0.64</td>\n",
              "      <td>0.70</td>\n",
              "      <td>4.43</td>\n",
              "      <td>0.20</td>\n",
              "    </tr>\n",
              "    <tr>\n",
              "      <th>NuSVR</th>\n",
              "      <td>0.62</td>\n",
              "      <td>0.68</td>\n",
              "      <td>4.57</td>\n",
              "      <td>0.03</td>\n",
              "    </tr>\n",
              "    <tr>\n",
              "      <th>ElasticNet</th>\n",
              "      <td>0.62</td>\n",
              "      <td>0.67</td>\n",
              "      <td>4.59</td>\n",
              "      <td>0.01</td>\n",
              "    </tr>\n",
              "    <tr>\n",
              "      <th>GammaRegressor</th>\n",
              "      <td>0.61</td>\n",
              "      <td>0.66</td>\n",
              "      <td>4.66</td>\n",
              "      <td>0.02</td>\n",
              "    </tr>\n",
              "    <tr>\n",
              "      <th>ExtraTreeRegressor</th>\n",
              "      <td>0.59</td>\n",
              "      <td>0.65</td>\n",
              "      <td>4.74</td>\n",
              "      <td>0.01</td>\n",
              "    </tr>\n",
              "    <tr>\n",
              "      <th>TweedieRegressor</th>\n",
              "      <td>0.59</td>\n",
              "      <td>0.65</td>\n",
              "      <td>4.76</td>\n",
              "      <td>0.01</td>\n",
              "    </tr>\n",
              "    <tr>\n",
              "      <th>MLPRegressor</th>\n",
              "      <td>0.50</td>\n",
              "      <td>0.57</td>\n",
              "      <td>5.24</td>\n",
              "      <td>0.48</td>\n",
              "    </tr>\n",
              "    <tr>\n",
              "      <th>OrthogonalMatchingPursuit</th>\n",
              "      <td>0.47</td>\n",
              "      <td>0.54</td>\n",
              "      <td>5.42</td>\n",
              "      <td>0.01</td>\n",
              "    </tr>\n",
              "    <tr>\n",
              "      <th>GaussianProcessRegressor</th>\n",
              "      <td>0.04</td>\n",
              "      <td>0.18</td>\n",
              "      <td>7.28</td>\n",
              "      <td>0.03</td>\n",
              "    </tr>\n",
              "    <tr>\n",
              "      <th>DummyRegressor</th>\n",
              "      <td>-0.21</td>\n",
              "      <td>-0.03</td>\n",
              "      <td>8.16</td>\n",
              "      <td>0.01</td>\n",
              "    </tr>\n",
              "    <tr>\n",
              "      <th>QuantileRegressor</th>\n",
              "      <td>-0.28</td>\n",
              "      <td>-0.09</td>\n",
              "      <td>8.39</td>\n",
              "      <td>1.57</td>\n",
              "    </tr>\n",
              "    <tr>\n",
              "      <th>KernelRidge</th>\n",
              "      <td>-8.32</td>\n",
              "      <td>-6.95</td>\n",
              "      <td>22.66</td>\n",
              "      <td>0.02</td>\n",
              "    </tr>\n",
              "  </tbody>\n",
              "</table>\n",
              "</div>\n",
              "      <button class=\"colab-df-convert\" onclick=\"convertToInteractive('df-3ebd6ffc-d5b5-48d6-aa2d-6a880a0a3e4f')\"\n",
              "              title=\"Convert this dataframe to an interactive table.\"\n",
              "              style=\"display:none;\">\n",
              "        \n",
              "  <svg xmlns=\"http://www.w3.org/2000/svg\" height=\"24px\"viewBox=\"0 0 24 24\"\n",
              "       width=\"24px\">\n",
              "    <path d=\"M0 0h24v24H0V0z\" fill=\"none\"/>\n",
              "    <path d=\"M18.56 5.44l.94 2.06.94-2.06 2.06-.94-2.06-.94-.94-2.06-.94 2.06-2.06.94zm-11 1L8.5 8.5l.94-2.06 2.06-.94-2.06-.94L8.5 2.5l-.94 2.06-2.06.94zm10 10l.94 2.06.94-2.06 2.06-.94-2.06-.94-.94-2.06-.94 2.06-2.06.94z\"/><path d=\"M17.41 7.96l-1.37-1.37c-.4-.4-.92-.59-1.43-.59-.52 0-1.04.2-1.43.59L10.3 9.45l-7.72 7.72c-.78.78-.78 2.05 0 2.83L4 21.41c.39.39.9.59 1.41.59.51 0 1.02-.2 1.41-.59l7.78-7.78 2.81-2.81c.8-.78.8-2.07 0-2.86zM5.41 20L4 18.59l7.72-7.72 1.47 1.35L5.41 20z\"/>\n",
              "  </svg>\n",
              "      </button>\n",
              "      \n",
              "  <style>\n",
              "    .colab-df-container {\n",
              "      display:flex;\n",
              "      flex-wrap:wrap;\n",
              "      gap: 12px;\n",
              "    }\n",
              "\n",
              "    .colab-df-convert {\n",
              "      background-color: #E8F0FE;\n",
              "      border: none;\n",
              "      border-radius: 50%;\n",
              "      cursor: pointer;\n",
              "      display: none;\n",
              "      fill: #1967D2;\n",
              "      height: 32px;\n",
              "      padding: 0 0 0 0;\n",
              "      width: 32px;\n",
              "    }\n",
              "\n",
              "    .colab-df-convert:hover {\n",
              "      background-color: #E2EBFA;\n",
              "      box-shadow: 0px 1px 2px rgba(60, 64, 67, 0.3), 0px 1px 3px 1px rgba(60, 64, 67, 0.15);\n",
              "      fill: #174EA6;\n",
              "    }\n",
              "\n",
              "    [theme=dark] .colab-df-convert {\n",
              "      background-color: #3B4455;\n",
              "      fill: #D2E3FC;\n",
              "    }\n",
              "\n",
              "    [theme=dark] .colab-df-convert:hover {\n",
              "      background-color: #434B5C;\n",
              "      box-shadow: 0px 1px 3px 1px rgba(0, 0, 0, 0.15);\n",
              "      filter: drop-shadow(0px 1px 2px rgba(0, 0, 0, 0.3));\n",
              "      fill: #FFFFFF;\n",
              "    }\n",
              "  </style>\n",
              "\n",
              "      <script>\n",
              "        const buttonEl =\n",
              "          document.querySelector('#df-3ebd6ffc-d5b5-48d6-aa2d-6a880a0a3e4f button.colab-df-convert');\n",
              "        buttonEl.style.display =\n",
              "          google.colab.kernel.accessAllowed ? 'block' : 'none';\n",
              "\n",
              "        async function convertToInteractive(key) {\n",
              "          const element = document.querySelector('#df-3ebd6ffc-d5b5-48d6-aa2d-6a880a0a3e4f');\n",
              "          const dataTable =\n",
              "            await google.colab.kernel.invokeFunction('convertToInteractive',\n",
              "                                                     [key], {});\n",
              "          if (!dataTable) return;\n",
              "\n",
              "          const docLinkHtml = 'Like what you see? Visit the ' +\n",
              "            '<a target=\"_blank\" href=https://colab.research.google.com/notebooks/data_table.ipynb>data table notebook</a>'\n",
              "            + ' to learn more about interactive tables.';\n",
              "          element.innerHTML = '';\n",
              "          dataTable['output_type'] = 'display_data';\n",
              "          await google.colab.output.renderOutput(dataTable, element);\n",
              "          const docLink = document.createElement('div');\n",
              "          docLink.innerHTML = docLinkHtml;\n",
              "          element.appendChild(docLink);\n",
              "        }\n",
              "      </script>\n",
              "    </div>\n",
              "  </div>\n",
              "  "
            ]
          },
          "metadata": {},
          "execution_count": 55
        }
      ]
    },
    {
      "cell_type": "markdown",
      "source": [
        "### Cross Val Score for SVR, DecisionTreeRegressor, Random Forest "
      ],
      "metadata": {
        "id": "lrFj2xASUlN5"
      }
    },
    {
      "cell_type": "code",
      "source": [
        "print('Cross Val Score for Decision Trees: ')\n",
        "result = cross_val_score(DecisionTreeRegressor(), xtrain, ytrain, cv=5, n_jobs=-1)\n",
        "print(np.mean(result))"
      ],
      "metadata": {
        "colab": {
          "base_uri": "https://localhost:8080/"
        },
        "id": "xOkrA4h7U2nH",
        "outputId": "293ef74b-eed7-4357-8af8-aaf6a81bc9c2"
      },
      "execution_count": 57,
      "outputs": [
        {
          "output_type": "stream",
          "name": "stdout",
          "text": [
            "Cross Val Score for Decision Trees: \n",
            "0.7548543200096807\n"
          ]
        }
      ]
    },
    {
      "cell_type": "code",
      "source": [
        "print('Cross Val Score for Super Vector Machine: ')\n",
        "result = cross_val_score(SVR(), xtrain, ytrain, cv=5, n_jobs=-1)\n",
        "print(np.mean(result))"
      ],
      "metadata": {
        "colab": {
          "base_uri": "https://localhost:8080/"
        },
        "id": "DjcugfDgVKwz",
        "outputId": "74579fc5-cb5d-4455-f3f1-d89da7e70429"
      },
      "execution_count": 58,
      "outputs": [
        {
          "output_type": "stream",
          "name": "stdout",
          "text": [
            "Cross Val Score for Super Vector Machine: \n",
            "0.591648250044811\n"
          ]
        }
      ]
    },
    {
      "cell_type": "code",
      "source": [
        "print('Cross Val Score for Random Forest: ')\n",
        "result = cross_val_score(RandomForestRegressor(), xtrain, ytrain, cv=5, n_jobs=-1)\n",
        "print(np.mean(result))"
      ],
      "metadata": {
        "colab": {
          "base_uri": "https://localhost:8080/"
        },
        "id": "QUitqMjbVWz8",
        "outputId": "688ee5a2-ebde-4655-e045-2b3bbef2b9e7"
      },
      "execution_count": 59,
      "outputs": [
        {
          "output_type": "stream",
          "name": "stdout",
          "text": [
            "Cross Val Score for Random Forest: \n",
            "0.8135730533931917\n"
          ]
        }
      ]
    },
    {
      "cell_type": "code",
      "source": [],
      "metadata": {
        "id": "7SdkQjraqGjt"
      },
      "execution_count": null,
      "outputs": []
    },
    {
      "cell_type": "markdown",
      "source": [
        "### RandomForestRegressor"
      ],
      "metadata": {
        "id": "sRvr48EcXWqZ"
      }
    },
    {
      "cell_type": "code",
      "source": [
        "rf2 =  RandomForestRegressor(random_state=0)\n",
        "rf2.fit(xtrain, ytrain)\n",
        "\n",
        "y_pred = rf2.predict(xtest)"
      ],
      "metadata": {
        "id": "dEY10GpiV9gq"
      },
      "execution_count": 61,
      "outputs": []
    },
    {
      "cell_type": "code",
      "source": [
        "rf2.score(xtrain, ytrain)"
      ],
      "metadata": {
        "colab": {
          "base_uri": "https://localhost:8080/"
        },
        "id": "t6WaWO8lrnjl",
        "outputId": "9f17adfc-2b1e-419c-e566-5a71d935dd94"
      },
      "execution_count": 92,
      "outputs": [
        {
          "output_type": "execute_result",
          "data": {
            "text/plain": [
              "0.9738110272112406"
            ]
          },
          "metadata": {},
          "execution_count": 92
        }
      ]
    },
    {
      "cell_type": "code",
      "source": [
        "print('Mean Absolute Error (MAE):', metrics.mean_absolute_error(ytest, y_pred))\n",
        "print('Mean Squared Error (MSE):', metrics.mean_squared_error(ytest, y_pred))\n",
        "print('Root Mean Squared Error (RMSE):', np.sqrt(metrics.mean_squared_error(ytest, y_pred)))\n",
        "mape = np.mean(np.abs((ytest - y_pred) / np.abs(ytest)))\n",
        "print('Mean Absolute Percentage Error (MAPE):', round(mape * 100, 2))\n",
        "print('Accuracy:', round(100*(1 - mape), 2))"
      ],
      "metadata": {
        "colab": {
          "base_uri": "https://localhost:8080/"
        },
        "id": "d6iy8oXUWNOt",
        "outputId": "380142b5-d280-4f5a-8f02-1cfe61fa10aa"
      },
      "execution_count": 64,
      "outputs": [
        {
          "output_type": "stream",
          "name": "stdout",
          "text": [
            "Mean Absolute Error (MAE): 1.9194698795180722\n",
            "Mean Squared Error (MSE): 6.358027180722891\n",
            "Root Mean Squared Error (RMSE): 2.521512875383128\n",
            "Mean Absolute Percentage Error (MAPE): 9.11\n",
            "Accuracy: 90.89\n"
          ]
        }
      ]
    },
    {
      "cell_type": "code",
      "source": [
        "lasso_df.columns"
      ],
      "metadata": {
        "colab": {
          "base_uri": "https://localhost:8080/"
        },
        "id": "pAt_vzJiWzaw",
        "outputId": "3896f1d1-f160-463c-ab95-8b225cb1faf6"
      },
      "execution_count": 68,
      "outputs": [
        {
          "output_type": "execute_result",
          "data": {
            "text/plain": [
              "Index(['crim', 'zn', 'indus', 'nox', 'rm', 'age', 'dis', 'rad', 'tax',\n",
              "       'ptratio', 'b', 'lstat'],\n",
              "      dtype='object')"
            ]
          },
          "metadata": {},
          "execution_count": 68
        }
      ]
    },
    {
      "cell_type": "code",
      "source": [
        "feat_impo = pd.Series(rf2.feature_importances_, index=lasso_df.columns).sort_values()"
      ],
      "metadata": {
        "id": "e79QAbNaWjOi"
      },
      "execution_count": 69,
      "outputs": []
    },
    {
      "cell_type": "code",
      "source": [
        "feat_impo.plot(kind=\"barh\")\n",
        "plt.ylabel('Features')\n",
        "plt.xlabel('Importance')\n",
        "plt.show()"
      ],
      "metadata": {
        "colab": {
          "base_uri": "https://localhost:8080/",
          "height": 279
        },
        "id": "iPzKzIAhW6PS",
        "outputId": "07b17bc8-83c5-42e2-b23e-f2cf3aac84c4"
      },
      "execution_count": 70,
      "outputs": [
        {
          "output_type": "display_data",
          "data": {
            "text/plain": [
              "<Figure size 432x288 with 1 Axes>"
            ],
            "image/png": "[encoded data removed]"
          },
          "metadata": {
            "needs_background": "light"
          }
        }
      ]
    },
    {
      "cell_type": "code",
      "source": [
        "columns = []\n",
        "scores = []\n",
        "\n",
        "for column in (feat_impo.sort_values(ascending=False).index):\n",
        "    columns.append(column)\n",
        "    new_features = df_boston[columns]\n",
        "\n",
        "    x_train, x_test, y_train, y_test = train_test_split(new_features, labels, test_size=0.15, random_state=42)\n",
        "\n",
        "    ss = StandardScaler()\n",
        "    x_train = ss.fit_transform(x_train)\n",
        "\n",
        "    res = cross_val_score(RandomForestRegressor(), x_train, y_train, cv=5, n_jobs=-1)\n",
        "    mean = np.mean(res)\n",
        "    scores.append(mean)\n",
        "\n",
        "    print(f'Features: {columns}')\n",
        "    print(mean)"
      ],
      "metadata": {
        "colab": {
          "base_uri": "https://localhost:8080/"
        },
        "id": "irLkGHSbYmR4",
        "outputId": "c4488ff9-a96f-4510-d878-94366e17d282"
      },
      "execution_count": 73,
      "outputs": [
        {
          "output_type": "stream",
          "name": "stdout",
          "text": [
            "Features: ['rm']\n",
            "0.3797030406946186\n",
            "Features: ['rm', 'lstat']\n",
            "0.7362380326234552\n",
            "Features: ['rm', 'lstat', 'dis']\n",
            "0.8170116203701605\n",
            "Features: ['rm', 'lstat', 'dis', 'crim']\n",
            "0.830954060076043\n",
            "Features: ['rm', 'lstat', 'dis', 'crim', 'age']\n",
            "0.8360232898299375\n",
            "Features: ['rm', 'lstat', 'dis', 'crim', 'age', 'tax']\n",
            "0.8397195933807238\n",
            "Features: ['rm', 'lstat', 'dis', 'crim', 'age', 'tax', 'nox']\n",
            "0.8433891373716923\n",
            "Features: ['rm', 'lstat', 'dis', 'crim', 'age', 'tax', 'nox', 'ptratio']\n",
            "0.8492527612811716\n",
            "Features: ['rm', 'lstat', 'dis', 'crim', 'age', 'tax', 'nox', 'ptratio', 'indus']\n",
            "0.8488288666222544\n",
            "Features: ['rm', 'lstat', 'dis', 'crim', 'age', 'tax', 'nox', 'ptratio', 'indus', 'b']\n",
            "0.8485596779336386\n",
            "Features: ['rm', 'lstat', 'dis', 'crim', 'age', 'tax', 'nox', 'ptratio', 'indus', 'b', 'rad']\n",
            "0.8451554398680339\n",
            "Features: ['rm', 'lstat', 'dis', 'crim', 'age', 'tax', 'nox', 'ptratio', 'indus', 'b', 'rad', 'zn']\n",
            "0.8453774829809471\n"
          ]
        }
      ]
    },
    {
      "cell_type": "code",
      "source": [
        "plt.plot(range(1, len(scores)+1), scores, marker='o')\n",
        "plt.xlabel('Number of Features Ordered by Importance')\n",
        "plt.ylabel('Cross Validation Score')\n",
        "plt.show()"
      ],
      "metadata": {
        "colab": {
          "base_uri": "https://localhost:8080/",
          "height": 279
        },
        "id": "oCn7VxMmYy2Q",
        "outputId": "5cdcf0de-610f-4c49-c9e6-c4ca436c1146"
      },
      "execution_count": 74,
      "outputs": [
        {
          "output_type": "display_data",
          "data": {
            "text/plain": [
              "<Figure size 432x288 with 1 Axes>"
            ],
            "image/png": "[encoded data removed]"
          },
          "metadata": {
            "needs_background": "light"
          }
        }
      ]
    },
    {
      "cell_type": "code",
      "source": [
        "new_features = df_boston[['rm', 'lstat', 'dis', 'crim', 'age', 'tax', 'nox', 'ptratio', 'indus', 'b', 'rad', 'zn']]\n",
        "\n",
        "x_train, x_test, y_train, y_test = train_test_split(new_features, labels, test_size=0.15, random_state=42)\n",
        "\n",
        "ss = StandardScaler()\n",
        "x_train = ss.fit_transform(x_train)\n",
        "x_test = ss.fit_transform(x_test)\n",
        "\n",
        "model = RandomForestRegressor()\n",
        "model.fit(x_train, y_train)\n",
        "model.score(x_test, y_test)"
      ],
      "metadata": {
        "colab": {
          "base_uri": "https://localhost:8080/"
        },
        "id": "u7NiqHOqY4kl",
        "outputId": "147a3633-238d-4130-c3ca-70c44ab8d1b5"
      },
      "execution_count": 78,
      "outputs": [
        {
          "output_type": "execute_result",
          "data": {
            "text/plain": [
              "0.8141664002413651"
            ]
          },
          "metadata": {},
          "execution_count": 78
        }
      ]
    },
    {
      "cell_type": "markdown",
      "source": [
        "### Hyperparameter Tuning"
      ],
      "metadata": {
        "id": "k7-tXsqKZWT_"
      }
    },
    {
      "cell_type": "code",
      "source": [
        "from sklearn.model_selection import RandomizedSearchCV\n",
        "import numpy as np\n",
        "\n",
        "#List Hyperparameters yang akan diuji\n",
        "hyperparameters = dict(\n",
        "                       n_estimators = [int(x) for x in np.linspace(start = 100, stop = 2000, num = 10)], # Jumlah subtree \n",
        "                       bootstrap = [True], # Apakah pakai bootstrapping atau tidak\n",
        "                       criterion = ['squared_error', 'friedman_mse', 'poisson', 'absolute_error'],\n",
        "                       max_depth = [int(x) for x in np.linspace(10, 110, num = 5)],  # Maximum kedalaman tree\n",
        "                       min_samples_split = [int(x) for x in np.linspace(start = 2, stop = 10, num = 5)], # Jumlah minimum samples pada node agar boleh di split menjadi leaf baru\n",
        "                       min_samples_leaf = [int(x) for x in np.linspace(start = 1, stop = 10, num = 5)], # Jumlah minimum samples pada leaf agar boleh terbentuk leaf baru\n",
        "                       max_features = ['auto', 'sqrt'], # Jumlah feature yg dipertimbangkan pada masing-masing split\n",
        "                       n_jobs = [-1], # Core untuk parallel computation. -1 untuk menggunakan semua core\n",
        "                      )\n",
        "\n",
        "# Init\n",
        "rf2 = RandomForestRegressor(random_state=0)\n",
        "rf_tuned = RandomizedSearchCV(rf2, hyperparameters, cv=6, random_state=75, scoring='recall')\n",
        "rf_tuned.fit(xtrain, ytrain)\n",
        "\n",
        "\n",
        "\n",
        "# Predict & Evaluation\n",
        "y_pred1 = rf_tuned.predict(xtest)#Check performa dari model"
      ],
      "metadata": {
        "id": "670l3YfFvwmj"
      },
      "execution_count": 93,
      "outputs": []
    },
    {
      "cell_type": "code",
      "source": [
        "print(rf_tuned.best_params_)"
      ],
      "metadata": {
        "colab": {
          "base_uri": "https://localhost:8080/"
        },
        "id": "Ljm9buDSx_zb",
        "outputId": "3b564377-4654-47a8-ca9b-dc5be2486303"
      },
      "execution_count": 98,
      "outputs": [
        {
          "output_type": "stream",
          "name": "stdout",
          "text": [
            "{'n_jobs': -1, 'n_estimators': 944, 'min_samples_split': 10, 'min_samples_leaf': 3, 'max_features': 'sqrt', 'max_depth': 85, 'criterion': 'friedman_mse', 'bootstrap': True}\n"
          ]
        }
      ]
    },
    {
      "cell_type": "code",
      "source": [
        "print('Mean Absolute Error (MAE):', metrics.mean_absolute_error(ytest, y_pred1))\n",
        "print('Mean Squared Error (MSE):', metrics.mean_squared_error(ytest, y_pred1))\n",
        "print('Root Mean Squared Error (RMSE):', np.sqrt(metrics.mean_squared_error(ytest, y_pred1)))\n",
        "mape = np.mean(np.abs((ytest - y_pred1) / np.abs(ytest)))\n",
        "print('Mean Absolute Percentage Error (MAPE):', round(mape * 100, 2))\n",
        "print('R2:', round(100*(1 - mape), 2))"
      ],
      "metadata": {
        "colab": {
          "base_uri": "https://localhost:8080/"
        },
        "id": "OTbbfPunxBMU",
        "outputId": "2e074847-b663-4bd6-c49c-1d402cb31714"
      },
      "execution_count": 106,
      "outputs": [
        {
          "output_type": "stream",
          "name": "stdout",
          "text": [
            "Mean Absolute Error (MAE): 2.2091753535255476\n",
            "Mean Squared Error (MSE): 8.8943539958966\n",
            "Root Mean Squared Error (RMSE): 2.9823403554753103\n",
            "Mean Absolute Percentage Error (MAPE): 10.26\n",
            "R2: 89.74\n"
          ]
        }
      ]
    },
    {
      "cell_type": "code",
      "source": [
        "from sklearn.model_selection import GridSearchCV\n",
        "param_grid1 = {'n_estimators': [522], 'min_samples_split': [6], 'min_samples_leaf': [1], 'max_features': ['sqrt'], 'max_depth': [60], 'criterion': ['squared_error', 'friedman_mse', 'poisson', 'absolute_error'], 'bootstrap': [True]}\n",
        "\n",
        "rfr = RandomForestRegressor()\n",
        "\n",
        "g_search = GridSearchCV(estimator = rfr, param_grid = param_grid1, cv=3,n_jobs = 1, verbose = 0, return_train_score=True)\n",
        "g_search.fit(xtrain, ytrain);\n",
        "y_pred2 = g_search.predict(xtest)#Check performa dari model"
      ],
      "metadata": {
        "id": "fqpbICPOxkoZ"
      },
      "execution_count": 95,
      "outputs": []
    },
    {
      "cell_type": "code",
      "source": [
        "print('Mean Absolute Error (MAE):', metrics.mean_absolute_error(ytest, y_pred2))\n",
        "print('Mean Squared Error (MSE):', metrics.mean_squared_error(ytest, y_pred2))\n",
        "print('Root Mean Squared Error (RMSE):', np.sqrt(metrics.mean_squared_error(ytest, y_pred2)))\n",
        "mape = np.mean(np.abs((ytest - y_pred2) / np.abs(ytest)))\n",
        "print('Mean Absolute Percentage Error (MAPE):', round(mape * 100, 2))\n",
        "print('Accuracy:', round(100*(1 - mape), 2))"
      ],
      "metadata": {
        "colab": {
          "base_uri": "https://localhost:8080/"
        },
        "id": "gWNIcbtYx0M4",
        "outputId": "93d768e5-6edf-43ba-df2d-95a9d58e8be8"
      },
      "execution_count": 96,
      "outputs": [
        {
          "output_type": "stream",
          "name": "stdout",
          "text": [
            "Mean Absolute Error (MAE): 2.071159731208028\n",
            "Mean Squared Error (MSE): 7.796292734212352\n",
            "Root Mean Squared Error (RMSE): 2.7921842228284923\n",
            "Mean Absolute Percentage Error (MAPE): 9.61\n",
            "Accuracy: 90.39\n"
          ]
        }
      ]
    },
    {
      "cell_type": "code",
      "source": [
        "print(g_search.best_params_)"
      ],
      "metadata": {
        "colab": {
          "base_uri": "https://localhost:8080/"
        },
        "id": "BlIAFDZ2yNMO",
        "outputId": "9fc77e4b-2413-47fb-a4a9-57f4ce2344af"
      },
      "execution_count": 99,
      "outputs": [
        {
          "output_type": "stream",
          "name": "stdout",
          "text": [
            "{'bootstrap': True, 'criterion': 'squared_error', 'max_depth': 60, 'max_features': 'sqrt', 'min_samples_leaf': 1, 'min_samples_split': 6, 'n_estimators': 522}\n"
          ]
        }
      ]
    }
  ]
}